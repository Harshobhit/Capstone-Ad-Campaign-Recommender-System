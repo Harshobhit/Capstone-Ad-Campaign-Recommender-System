{
 "cells": [
  {
   "cell_type": "code",
   "execution_count": 1,
   "id": "3b7a511b",
   "metadata": {},
   "outputs": [
    {
     "name": "stderr",
     "output_type": "stream",
     "text": [
      "E:\\Softwares\\Anaconda\\lib\\site-packages\\scipy\\__init__.py:146: UserWarning: A NumPy version >=1.16.5 and <1.23.0 is required for this version of SciPy (detected version 1.24.3\n",
      "  warnings.warn(f\"A NumPy version >={np_minversion} and <{np_maxversion}\"\n"
     ]
    }
   ],
   "source": [
    "import pandas as pd\n",
    "##Pre-processing\n",
    "from sklearn import preprocessing\n",
    "from sklearn.preprocessing import StandardScaler\n",
    "from sklearn.model_selection import train_test_split\n",
    "from sklearn.utils import class_weight\n",
    "\n",
    "#Model Evaluation\n",
    "from sklearn import metrics\n",
    "from sklearn.metrics import confusion_matrix,ConfusionMatrixDisplay, roc_auc_score,precision_score,recall_score,f1_score\n",
    "from sklearn.metrics import classification_report\n",
    "from sklearn.model_selection import GridSearchCV,RandomizedSearchCV\n",
    "from scipy.sparse import csr_matrix, hstack\n",
    "from scipy.stats import ks_2samp\n",
    "\n",
    "\n",
    "#Model Building\n",
    "from sklearn.linear_model import LogisticRegression\n",
    "from sklearn.model_selection import StratifiedKFold\n",
    "from sklearn.ensemble import RandomForestClassifier\n",
    "from mlxtend.classifier import StackingCVClassifier\n",
    "from sklearn import model_selection\n",
    "import xgboost as xgb\n",
    "\n",
    "#All Purpose\n",
    "import numpy as np\n",
    "import pickle\n",
    "import seaborn as sns\n",
    "import warnings\n",
    "import joblib\n",
    "import matplotlib.pyplot as plt\n",
    "\n",
    "%matplotlib inline\n",
    "warnings.filterwarnings(\"ignore\")"
   ]
  },
  {
   "cell_type": "markdown",
   "id": "e38a51e7",
   "metadata": {},
   "source": [
    "### Reading Train_Test Split  Data"
   ]
  },
  {
   "cell_type": "markdown",
   "id": "4c120070",
   "metadata": {},
   "source": [
    " - As part of gender prediction data was encoded and numerical columns were scaled to same range of values.\n",
    " - Data was also split into train and test which can be used here directly."
   ]
  },
  {
   "cell_type": "code",
   "execution_count": 2,
   "id": "6d3350f6",
   "metadata": {},
   "outputs": [],
   "source": [
    "#Reading Saved Training Data\n",
    "path = 'E:\\Shobhit\\MSDS\\Capstone\\Y1_Capstone\\MLModels\\Train_Test_Data\\Scenario 1'\n",
    "df_s1_data_train = pd.read_csv(f'{path}\\\\df_s1_data_train.csv')"
   ]
  },
  {
   "cell_type": "code",
   "execution_count": 3,
   "id": "4ba50d16",
   "metadata": {},
   "outputs": [
    {
     "data": {
      "text/plain": [
       "(17391, 1034)"
      ]
     },
     "execution_count": 3,
     "metadata": {},
     "output_type": "execute_result"
    }
   ],
   "source": [
    "df_s1_data_train.shape"
   ]
  },
  {
   "cell_type": "code",
   "execution_count": 4,
   "id": "437d289e",
   "metadata": {},
   "outputs": [
    {
     "data": {
      "text/plain": [
       "(17391, 1033)"
      ]
     },
     "execution_count": 4,
     "metadata": {},
     "output_type": "execute_result"
    }
   ],
   "source": [
    "df_s1_data_train.drop('train_test_flag',axis=1,inplace=True)\n",
    "df_s1_data_train.shape"
   ]
  },
  {
   "cell_type": "markdown",
   "id": "42e46f6b",
   "metadata": {},
   "source": [
    "### Why Classification Model Was Chosen for Age Prediction"
   ]
  },
  {
   "cell_type": "markdown",
   "id": "de134ac6",
   "metadata": {},
   "source": [
    "- Age prediction is subjective and depends on various factors such as genetics, lifestyle, health, etc. Therefore, it is hard to define a precise age for a person based on their appearance.\n",
    "- Age prediction is often used for applications that do not require exact age, but rather a rough estimate or a range. For example, age-based marketing, face verification, demographic analysis, etc.\n",
    "- Classification can reduce the error and variance of the prediction by grouping similar ages into bins or categories. For example, instead of predicting 23 or 24 years old, we can predict 20-25 years old as a class.\n"
   ]
  },
  {
   "cell_type": "code",
   "execution_count": 15,
   "id": "9dcf18c5",
   "metadata": {},
   "outputs": [],
   "source": [
    "def create_age_bins(age):\n",
    "    if 0<= age <= 24:\n",
    "        return 0 #for 0-24\n",
    "    elif 25<= age <= 32:\n",
    "        return 1 #for 25-32\n",
    "    elif age > 32:\n",
    "        return 2 #for 32+\n",
    "        "
   ]
  },
  {
   "cell_type": "code",
   "execution_count": 16,
   "id": "4b6652bf",
   "metadata": {},
   "outputs": [
    {
     "name": "stdout",
     "output_type": "stream",
     "text": [
      "(17391, 1030)\n",
      "(17391,)\n",
      "(17391,)\n"
     ]
    }
   ],
   "source": [
    "#Separating target variables with features for training data\n",
    "#For Male we would be denoting by 1 and for female by 0\n",
    "X_train_s1 = df_s1_data_train.drop(columns= ['gender','age','device_id'],axis=1)\n",
    "Y_train_s1_age = df_s1_data_train['age'].apply(lambda x:create_age_bins(x))\n",
    "Y_train_s1_age = df_s1_data_train['gender'].apply(lambda gender : 1 if gender == 'M' else 0)\n",
    "Y_train_s1_age\n",
    "print(X_train_s1.shape)\n",
    "print(Y_train_s1_age.shape)\n",
    "print(Y_train_s1_age.shape)"
   ]
  },
  {
   "cell_type": "code",
   "execution_count": 17,
   "id": "ea273bd4",
   "metadata": {},
   "outputs": [
    {
     "data": {
      "text/plain": [
       "(5791, 1034)"
      ]
     },
     "execution_count": 17,
     "metadata": {},
     "output_type": "execute_result"
    }
   ],
   "source": [
    "#Reading Saved Test Data\n",
    "path = 'E:\\Shobhit\\MSDS\\Capstone\\Y1_Capstone\\MLModels\\Train_Test_Data\\Scenario 1'\n",
    "df_s1_data_test = pd.read_csv(f'{path}\\\\df_s1_data_test.csv')\n",
    "df_s1_data_test.shape"
   ]
  },
  {
   "cell_type": "code",
   "execution_count": 18,
   "id": "870d34ea",
   "metadata": {},
   "outputs": [
    {
     "data": {
      "text/plain": [
       "(5791, 1033)"
      ]
     },
     "execution_count": 18,
     "metadata": {},
     "output_type": "execute_result"
    }
   ],
   "source": [
    "df_s1_data_test.drop('train_test_flag',axis=1,inplace=True)\n",
    "df_s1_data_test.shape"
   ]
  },
  {
   "cell_type": "code",
   "execution_count": 19,
   "id": "b3d059b7",
   "metadata": {},
   "outputs": [
    {
     "name": "stdout",
     "output_type": "stream",
     "text": [
      "(5791, 1030)\n",
      "(5791,)\n"
     ]
    }
   ],
   "source": [
    "#Separating target variables with features for test data\n",
    "X_test_s1 = df_s1_data_test.drop(columns= ['gender','age','device_id'],axis=1)\n",
    "Y_test_s1_age = df_s1_data_test['age'].apply(lambda x:create_age_bins(x))\n",
    "print(X_test_s1.shape)\n",
    "print(Y_test_s1_age.shape)\n"
   ]
  },
  {
   "cell_type": "markdown",
   "id": "ef039013",
   "metadata": {},
   "source": [
    "### Creating Helper Functions for Model Evaluation"
   ]
  },
  {
   "cell_type": "code",
   "execution_count": 53,
   "id": "032cd19e",
   "metadata": {},
   "outputs": [],
   "source": [
    "#Below dict will contain all the evaluation metrics for each model which would be later used for comparison\n",
    "model_evaluation_dict_age = {\n",
    "    'Model_Name':[],\n",
    "    'Training_Accuracy':[],\n",
    "    'Testing_Accuracy':[],\n",
    "    'Precision_Training':[],\n",
    "    'Precision_Testing':[],\n",
    "    'Recall_Training':[],\n",
    "    'Recall_Testing':[],\n",
    "    'F1Score_Training':[],\n",
    "    'F1Score_Testing':[],\n",
    "    'Multiclass_log_loss_Training':[],\n",
    "    'Multiclass_log_loss_Testing':[],\n",
    "}"
   ]
  },
  {
   "cell_type": "code",
   "execution_count": 54,
   "id": "e096674e",
   "metadata": {},
   "outputs": [],
   "source": [
    "def multiclass_log_loss(y_true, y_pred):\n",
    "    eps = 1e-15\n",
    "    y_pred = np.clip(y_pred, eps, 1 - eps)\n",
    "    N = len(y_true)\n",
    "    loss = -np.sum(y_true * np.log(y_pred)) / N\n",
    "    return loss"
   ]
  },
  {
   "cell_type": "code",
   "execution_count": 55,
   "id": "c124baa5",
   "metadata": {},
   "outputs": [],
   "source": [
    "def evaluate_model(model, data, y_true, isTraining=True):\n",
    "    label = 'Training' if isTraining else 'Testing'\n",
    "    \n",
    "    print(f'Evaluating {label} performance')\n",
    "    \n",
    "    #Prediciting target variable on training data\n",
    "    y_pred = model.predict(data)\n",
    "    #Calculating Accuracy\n",
    "    accuracy = metrics.balanced_accuracy_score(y_true, y_pred)\n",
    "    print(f'Accuracy:{accuracy}')\n",
    "    \n",
    "    #Calculating Precision and Recall Score\n",
    "    precision = precision_score(y_true, y_pred, average=\"weighted\")\n",
    "    recall = recall_score(y_true, y_pred, average=\"weighted\")\n",
    "    print(f'Precision:{precision}')\n",
    "    print(f'Recall:{recall}')\n",
    "    \n",
    "    #Calculating F1-Score\n",
    "    f1 = f1_score(y_true, y_pred,average='weighted')\n",
    "    print(f'F1Score:{f1}')\n",
    "    \n",
    "    #Plotting Confusion Matrix\n",
    "    cm = confusion_matrix(y_true, y_pred, labels=[0,1,2])\n",
    "    disp = ConfusionMatrixDisplay(confusion_matrix=cm,display_labels=[0,1,2])\n",
    "    disp.plot()\n",
    "        \n",
    "    #Evaluating log loss\n",
    "    log_loss = multiclass_log_loss(y_true, y_pred) \n",
    "    \n",
    "    #Adding above generated evaluation metrics to the model_evaluation_dict_age\n",
    "    model_evaluation_dict_age[f'{label}_Accuracy'].append(accuracy)\n",
    "    model_evaluation_dict_age[f'Precision_{label}'].append(precision)\n",
    "    model_evaluation_dict_age[f'Recall_{label}'].append(recall)\n",
    "    model_evaluation_dict_age[f'F1Score_{label}'].append(f1)\n",
    "    model_evaluation_dict_age[f'Multiclass_log_loss_{label}'].append(log_loss)\n"
   ]
  },
  {
   "cell_type": "markdown",
   "id": "a59cd0fa",
   "metadata": {},
   "source": [
    "### Logistic Regression Model for Predicting `Age` for Scenario 1"
   ]
  },
  {
   "cell_type": "markdown",
   "id": "aadacaf2",
   "metadata": {},
   "source": [
    "- Logistic regression model will be used as a benchmark to compare the other Machine learning models."
   ]
  },
  {
   "cell_type": "code",
   "execution_count": 56,
   "id": "960c7e11",
   "metadata": {},
   "outputs": [
    {
     "data": {
      "text/plain": [
       "1    7086\n",
       "2    6772\n",
       "0    3533\n",
       "Name: age, dtype: int64"
      ]
     },
     "execution_count": 56,
     "metadata": {},
     "output_type": "execute_result"
    }
   ],
   "source": [
    "Y_train_s1_age.value_counts()"
   ]
  },
  {
   "cell_type": "code",
   "execution_count": 57,
   "id": "cd7bc56a",
   "metadata": {},
   "outputs": [
    {
     "name": "stdout",
     "output_type": "stream",
     "text": [
      "[1.64081517 0.81809201 0.85602481]\n",
      "{0: 1.64081517124257, 1: 0.8180920124188541, 2: 0.8560248080330773}\n"
     ]
    }
   ],
   "source": [
    "#As it is an unbalanced data set compute the appropiate class weight to be assigned to the model\n",
    "weights = class_weight.compute_class_weight(class_weight='balanced',classes=np.unique(Y_train_s1_age),y = Y_train_s1_age)\n",
    "print(weights)\n",
    "class_weights = dict(zip(np.unique(Y_train_s1_age), weights))\n",
    "print(class_weights)"
   ]
  },
  {
   "cell_type": "code",
   "execution_count": 44,
   "id": "4c615904",
   "metadata": {},
   "outputs": [
    {
     "data": {
      "text/html": [
       "<style>#sk-container-id-3 {color: black;background-color: white;}#sk-container-id-3 pre{padding: 0;}#sk-container-id-3 div.sk-toggleable {background-color: white;}#sk-container-id-3 label.sk-toggleable__label {cursor: pointer;display: block;width: 100%;margin-bottom: 0;padding: 0.3em;box-sizing: border-box;text-align: center;}#sk-container-id-3 label.sk-toggleable__label-arrow:before {content: \"▸\";float: left;margin-right: 0.25em;color: #696969;}#sk-container-id-3 label.sk-toggleable__label-arrow:hover:before {color: black;}#sk-container-id-3 div.sk-estimator:hover label.sk-toggleable__label-arrow:before {color: black;}#sk-container-id-3 div.sk-toggleable__content {max-height: 0;max-width: 0;overflow: hidden;text-align: left;background-color: #f0f8ff;}#sk-container-id-3 div.sk-toggleable__content pre {margin: 0.2em;color: black;border-radius: 0.25em;background-color: #f0f8ff;}#sk-container-id-3 input.sk-toggleable__control:checked~div.sk-toggleable__content {max-height: 200px;max-width: 100%;overflow: auto;}#sk-container-id-3 input.sk-toggleable__control:checked~label.sk-toggleable__label-arrow:before {content: \"▾\";}#sk-container-id-3 div.sk-estimator input.sk-toggleable__control:checked~label.sk-toggleable__label {background-color: #d4ebff;}#sk-container-id-3 div.sk-label input.sk-toggleable__control:checked~label.sk-toggleable__label {background-color: #d4ebff;}#sk-container-id-3 input.sk-hidden--visually {border: 0;clip: rect(1px 1px 1px 1px);clip: rect(1px, 1px, 1px, 1px);height: 1px;margin: -1px;overflow: hidden;padding: 0;position: absolute;width: 1px;}#sk-container-id-3 div.sk-estimator {font-family: monospace;background-color: #f0f8ff;border: 1px dotted black;border-radius: 0.25em;box-sizing: border-box;margin-bottom: 0.5em;}#sk-container-id-3 div.sk-estimator:hover {background-color: #d4ebff;}#sk-container-id-3 div.sk-parallel-item::after {content: \"\";width: 100%;border-bottom: 1px solid gray;flex-grow: 1;}#sk-container-id-3 div.sk-label:hover label.sk-toggleable__label {background-color: #d4ebff;}#sk-container-id-3 div.sk-serial::before {content: \"\";position: absolute;border-left: 1px solid gray;box-sizing: border-box;top: 0;bottom: 0;left: 50%;z-index: 0;}#sk-container-id-3 div.sk-serial {display: flex;flex-direction: column;align-items: center;background-color: white;padding-right: 0.2em;padding-left: 0.2em;position: relative;}#sk-container-id-3 div.sk-item {position: relative;z-index: 1;}#sk-container-id-3 div.sk-parallel {display: flex;align-items: stretch;justify-content: center;background-color: white;position: relative;}#sk-container-id-3 div.sk-item::before, #sk-container-id-3 div.sk-parallel-item::before {content: \"\";position: absolute;border-left: 1px solid gray;box-sizing: border-box;top: 0;bottom: 0;left: 50%;z-index: -1;}#sk-container-id-3 div.sk-parallel-item {display: flex;flex-direction: column;z-index: 1;position: relative;background-color: white;}#sk-container-id-3 div.sk-parallel-item:first-child::after {align-self: flex-end;width: 50%;}#sk-container-id-3 div.sk-parallel-item:last-child::after {align-self: flex-start;width: 50%;}#sk-container-id-3 div.sk-parallel-item:only-child::after {width: 0;}#sk-container-id-3 div.sk-dashed-wrapped {border: 1px dashed gray;margin: 0 0.4em 0.5em 0.4em;box-sizing: border-box;padding-bottom: 0.4em;background-color: white;}#sk-container-id-3 div.sk-label label {font-family: monospace;font-weight: bold;display: inline-block;line-height: 1.2em;}#sk-container-id-3 div.sk-label-container {text-align: center;}#sk-container-id-3 div.sk-container {/* jupyter's `normalize.less` sets `[hidden] { display: none; }` but bootstrap.min.css set `[hidden] { display: none !important; }` so we also need the `!important` here to be able to override the default hidden behavior on the sphinx rendered scikit-learn.org. See: https://github.com/scikit-learn/scikit-learn/issues/21755 */display: inline-block !important;position: relative;}#sk-container-id-3 div.sk-text-repr-fallback {display: none;}</style><div id=\"sk-container-id-3\" class=\"sk-top-container\"><div class=\"sk-text-repr-fallback\"><pre>LogisticRegression(class_weight={0: 1.64081517124257, 1: 0.8180920124188541,\n",
       "                                 2: 0.8560248080330773},\n",
       "                   max_iter=1500, random_state=100)</pre><b>In a Jupyter environment, please rerun this cell to show the HTML representation or trust the notebook. <br />On GitHub, the HTML representation is unable to render, please try loading this page with nbviewer.org.</b></div><div class=\"sk-container\" hidden><div class=\"sk-item\"><div class=\"sk-estimator sk-toggleable\"><input class=\"sk-toggleable__control sk-hidden--visually\" id=\"sk-estimator-id-3\" type=\"checkbox\" checked><label for=\"sk-estimator-id-3\" class=\"sk-toggleable__label sk-toggleable__label-arrow\">LogisticRegression</label><div class=\"sk-toggleable__content\"><pre>LogisticRegression(class_weight={0: 1.64081517124257, 1: 0.8180920124188541,\n",
       "                                 2: 0.8560248080330773},\n",
       "                   max_iter=1500, random_state=100)</pre></div></div></div></div></div>"
      ],
      "text/plain": [
       "LogisticRegression(class_weight={0: 1.64081517124257, 1: 0.8180920124188541,\n",
       "                                 2: 0.8560248080330773},\n",
       "                   max_iter=1500, random_state=100)"
      ]
     },
     "execution_count": 44,
     "metadata": {},
     "output_type": "execute_result"
    }
   ],
   "source": [
    "#Declaring the Logistic Regression Model and training the model on the train data\n",
    "lr_model = LogisticRegression(class_weight = class_weights,random_state=100, max_iter=1500)\n",
    "lr_model.fit(X_train_s1, Y_train_s1_age)"
   ]
  },
  {
   "cell_type": "code",
   "execution_count": 48,
   "id": "2c1c120a",
   "metadata": {},
   "outputs": [],
   "source": [
    "# Saving the Logistic Regression Model as a pickle in a file\n",
    "path = 'E:\\Shobhit\\MSDS\\Capstone\\Y1_Capstone\\MLModels\\Age Prediction'\n",
    "filename = f'{path}\\\\Logistic_Regression_Age_Scenario1.pkl'\n",
    "pickle.dump(lr_model, open(filename, 'wb'))"
   ]
  },
  {
   "cell_type": "code",
   "execution_count": 213,
   "id": "b3d219dd",
   "metadata": {},
   "outputs": [
    {
     "name": "stdout",
     "output_type": "stream",
     "text": [
      "LogisticRegression(class_weight={0: 1.4453956117021276, 1: 0.7644395604395604},\n",
      "                   max_iter=1500, random_state=100)\n"
     ]
    }
   ],
   "source": [
    "# Reading saved Logistic regression model\n",
    "# path = 'E:\\\\Shobhit\\\\MSDS\\\\Capstone\\\\Y1_Capstone\\\\MLModels'\n",
    "# filename = f'{path}\\\\Logistic_Regression_Age_Scenario1.pkl'\n",
    "# lr_model = pickle.load(open(filename, 'rb'))\n",
    "# print(lr_model)"
   ]
  },
  {
   "cell_type": "markdown",
   "id": "e6be51e6",
   "metadata": {},
   "source": [
    "#### Evaluating the Logistic Regression classifier on Training Data Set"
   ]
  },
  {
   "cell_type": "code",
   "execution_count": 58,
   "id": "49f125bb",
   "metadata": {},
   "outputs": [
    {
     "name": "stdout",
     "output_type": "stream",
     "text": [
      "Evaluating Training performance\n",
      "Accuracy:0.4854164531592122\n",
      "Precision:0.4965448389273585\n",
      "Recall:0.4704157322753148\n",
      "F1Score:0.4709104407530134\n"
     ]
    },
    {
     "data": {
      "image/png": "[encoded data removed]",
      "text/plain": [
       "<Figure size 640x480 with 2 Axes>"
      ]
     },
     "metadata": {},
     "output_type": "display_data"
    }
   ],
   "source": [
    "model_evaluation_dict_age['Model_Name'].append('Logistic_Regression')\n",
    "evaluate_model(lr_model, X_train_s1, Y_train_s1_age)"
   ]
  },
  {
   "cell_type": "markdown",
   "id": "e5819eee",
   "metadata": {},
   "source": [
    "#### Evaluating the Logistic Regression classifier on Test Data Set"
   ]
  },
  {
   "cell_type": "code",
   "execution_count": 59,
   "id": "8bd1decd",
   "metadata": {},
   "outputs": [
    {
     "name": "stdout",
     "output_type": "stream",
     "text": [
      "Evaluating Testing performance\n",
      "Accuracy:0.430699357693958\n",
      "Precision:0.44077343170206945\n",
      "Recall:0.4194439647729235\n",
      "F1Score:0.42054007306029817\n"
     ]
    },
    {
     "data": {
      "image/png": "[encoded data removed]",
      "text/plain": [
       "<Figure size 640x480 with 2 Axes>"
      ]
     },
     "metadata": {},
     "output_type": "display_data"
    }
   ],
   "source": [
    "evaluate_model(lr_model, X_test_s1, Y_test_s1_age, False)"
   ]
  },
  {
   "cell_type": "markdown",
   "id": "98817f1e",
   "metadata": {},
   "source": [
    "### XGBoost Model for Predicting `Age` for Scenario 1"
   ]
  },
  {
   "cell_type": "code",
   "execution_count": 60,
   "id": "50de1334",
   "metadata": {},
   "outputs": [
    {
     "data": {
      "text/html": [
       "<style>#sk-container-id-4 {color: black;background-color: white;}#sk-container-id-4 pre{padding: 0;}#sk-container-id-4 div.sk-toggleable {background-color: white;}#sk-container-id-4 label.sk-toggleable__label {cursor: pointer;display: block;width: 100%;margin-bottom: 0;padding: 0.3em;box-sizing: border-box;text-align: center;}#sk-container-id-4 label.sk-toggleable__label-arrow:before {content: \"▸\";float: left;margin-right: 0.25em;color: #696969;}#sk-container-id-4 label.sk-toggleable__label-arrow:hover:before {color: black;}#sk-container-id-4 div.sk-estimator:hover label.sk-toggleable__label-arrow:before {color: black;}#sk-container-id-4 div.sk-toggleable__content {max-height: 0;max-width: 0;overflow: hidden;text-align: left;background-color: #f0f8ff;}#sk-container-id-4 div.sk-toggleable__content pre {margin: 0.2em;color: black;border-radius: 0.25em;background-color: #f0f8ff;}#sk-container-id-4 input.sk-toggleable__control:checked~div.sk-toggleable__content {max-height: 200px;max-width: 100%;overflow: auto;}#sk-container-id-4 input.sk-toggleable__control:checked~label.sk-toggleable__label-arrow:before {content: \"▾\";}#sk-container-id-4 div.sk-estimator input.sk-toggleable__control:checked~label.sk-toggleable__label {background-color: #d4ebff;}#sk-container-id-4 div.sk-label input.sk-toggleable__control:checked~label.sk-toggleable__label {background-color: #d4ebff;}#sk-container-id-4 input.sk-hidden--visually {border: 0;clip: rect(1px 1px 1px 1px);clip: rect(1px, 1px, 1px, 1px);height: 1px;margin: -1px;overflow: hidden;padding: 0;position: absolute;width: 1px;}#sk-container-id-4 div.sk-estimator {font-family: monospace;background-color: #f0f8ff;border: 1px dotted black;border-radius: 0.25em;box-sizing: border-box;margin-bottom: 0.5em;}#sk-container-id-4 div.sk-estimator:hover {background-color: #d4ebff;}#sk-container-id-4 div.sk-parallel-item::after {content: \"\";width: 100%;border-bottom: 1px solid gray;flex-grow: 1;}#sk-container-id-4 div.sk-label:hover label.sk-toggleable__label {background-color: #d4ebff;}#sk-container-id-4 div.sk-serial::before {content: \"\";position: absolute;border-left: 1px solid gray;box-sizing: border-box;top: 0;bottom: 0;left: 50%;z-index: 0;}#sk-container-id-4 div.sk-serial {display: flex;flex-direction: column;align-items: center;background-color: white;padding-right: 0.2em;padding-left: 0.2em;position: relative;}#sk-container-id-4 div.sk-item {position: relative;z-index: 1;}#sk-container-id-4 div.sk-parallel {display: flex;align-items: stretch;justify-content: center;background-color: white;position: relative;}#sk-container-id-4 div.sk-item::before, #sk-container-id-4 div.sk-parallel-item::before {content: \"\";position: absolute;border-left: 1px solid gray;box-sizing: border-box;top: 0;bottom: 0;left: 50%;z-index: -1;}#sk-container-id-4 div.sk-parallel-item {display: flex;flex-direction: column;z-index: 1;position: relative;background-color: white;}#sk-container-id-4 div.sk-parallel-item:first-child::after {align-self: flex-end;width: 50%;}#sk-container-id-4 div.sk-parallel-item:last-child::after {align-self: flex-start;width: 50%;}#sk-container-id-4 div.sk-parallel-item:only-child::after {width: 0;}#sk-container-id-4 div.sk-dashed-wrapped {border: 1px dashed gray;margin: 0 0.4em 0.5em 0.4em;box-sizing: border-box;padding-bottom: 0.4em;background-color: white;}#sk-container-id-4 div.sk-label label {font-family: monospace;font-weight: bold;display: inline-block;line-height: 1.2em;}#sk-container-id-4 div.sk-label-container {text-align: center;}#sk-container-id-4 div.sk-container {/* jupyter's `normalize.less` sets `[hidden] { display: none; }` but bootstrap.min.css set `[hidden] { display: none !important; }` so we also need the `!important` here to be able to override the default hidden behavior on the sphinx rendered scikit-learn.org. See: https://github.com/scikit-learn/scikit-learn/issues/21755 */display: inline-block !important;position: relative;}#sk-container-id-4 div.sk-text-repr-fallback {display: none;}</style><div id=\"sk-container-id-4\" class=\"sk-top-container\"><div class=\"sk-text-repr-fallback\"><pre>XGBClassifier(base_score=None, booster=None, callbacks=None,\n",
       "              colsample_bylevel=None, colsample_bynode=None,\n",
       "              colsample_bytree=None, early_stopping_rounds=None,\n",
       "              enable_categorical=False, eval_metric=None, feature_types=None,\n",
       "              gamma=None, gpu_id=None, grow_policy=None, importance_type=None,\n",
       "              interaction_constraints=None, learning_rate=None, max_bin=None,\n",
       "              max_cat_threshold=None, max_cat_to_onehot=None,\n",
       "              max_delta_step=None, max_depth=None, max_leaves=None,\n",
       "              min_child_weight=None, missing=nan, monotone_constraints=None,\n",
       "              n_estimators=100, n_jobs=-1, num_parallel_tree=None,\n",
       "              objective=&#x27;multi:softprob&#x27;, predictor=None, ...)</pre><b>In a Jupyter environment, please rerun this cell to show the HTML representation or trust the notebook. <br />On GitHub, the HTML representation is unable to render, please try loading this page with nbviewer.org.</b></div><div class=\"sk-container\" hidden><div class=\"sk-item\"><div class=\"sk-estimator sk-toggleable\"><input class=\"sk-toggleable__control sk-hidden--visually\" id=\"sk-estimator-id-4\" type=\"checkbox\" checked><label for=\"sk-estimator-id-4\" class=\"sk-toggleable__label sk-toggleable__label-arrow\">XGBClassifier</label><div class=\"sk-toggleable__content\"><pre>XGBClassifier(base_score=None, booster=None, callbacks=None,\n",
       "              colsample_bylevel=None, colsample_bynode=None,\n",
       "              colsample_bytree=None, early_stopping_rounds=None,\n",
       "              enable_categorical=False, eval_metric=None, feature_types=None,\n",
       "              gamma=None, gpu_id=None, grow_policy=None, importance_type=None,\n",
       "              interaction_constraints=None, learning_rate=None, max_bin=None,\n",
       "              max_cat_threshold=None, max_cat_to_onehot=None,\n",
       "              max_delta_step=None, max_depth=None, max_leaves=None,\n",
       "              min_child_weight=None, missing=nan, monotone_constraints=None,\n",
       "              n_estimators=100, n_jobs=-1, num_parallel_tree=None,\n",
       "              objective=&#x27;multi:softprob&#x27;, predictor=None, ...)</pre></div></div></div></div></div>"
      ],
      "text/plain": [
       "XGBClassifier(base_score=None, booster=None, callbacks=None,\n",
       "              colsample_bylevel=None, colsample_bynode=None,\n",
       "              colsample_bytree=None, early_stopping_rounds=None,\n",
       "              enable_categorical=False, eval_metric=None, feature_types=None,\n",
       "              gamma=None, gpu_id=None, grow_policy=None, importance_type=None,\n",
       "              interaction_constraints=None, learning_rate=None, max_bin=None,\n",
       "              max_cat_threshold=None, max_cat_to_onehot=None,\n",
       "              max_delta_step=None, max_depth=None, max_leaves=None,\n",
       "              min_child_weight=None, missing=nan, monotone_constraints=None,\n",
       "              n_estimators=100, n_jobs=-1, num_parallel_tree=None,\n",
       "              objective='multi:softprob', predictor=None, ...)"
      ]
     },
     "execution_count": 60,
     "metadata": {},
     "output_type": "execute_result"
    }
   ],
   "source": [
    "#Training XGBoost Model on train data\n",
    "xgclf = xgb.XGBClassifier(random_state=100,n_jobs=-1)\n",
    "xgclf.fit(X_train_s1, Y_train_s1_age)"
   ]
  },
  {
   "cell_type": "code",
   "execution_count": 75,
   "id": "df3d3dc8",
   "metadata": {},
   "outputs": [],
   "source": [
    "# Saving the XGBoost Model as a pickle in a file\n",
    "path = 'E:\\Shobhit\\MSDS\\Capstone\\Y1_Capstone\\MLModels\\Age Prediction'\n",
    "filename = f'{path}\\\\XGBoost_Age_Scenario1.pkl'\n",
    "pickle.dump(xgclf, open(filename, 'wb'))"
   ]
  },
  {
   "cell_type": "code",
   "execution_count": 221,
   "id": "42bdc874",
   "metadata": {},
   "outputs": [
    {
     "name": "stdout",
     "output_type": "stream",
     "text": [
      "XGBClassifier(base_score=None, booster=None, callbacks=None,\n",
      "              colsample_bylevel=None, colsample_bynode=None,\n",
      "              colsample_bytree=None, early_stopping_rounds=None,\n",
      "              enable_categorical=False, eval_metric=None, feature_types=None,\n",
      "              gamma=None, gpu_id=None, grow_policy=None, importance_type=None,\n",
      "              interaction_constraints=None, learning_rate=None, max_bin=None,\n",
      "              max_cat_threshold=None, max_cat_to_onehot=None,\n",
      "              max_delta_step=None, max_depth=None, max_leaves=None,\n",
      "              min_child_weight=None, missing=nan, monotone_constraints=None,\n",
      "              n_estimators=100, n_jobs=-1, num_parallel_tree=None,\n",
      "              predictor=None, random_state=100, ...)\n"
     ]
    }
   ],
   "source": [
    "# Reading saved XGBoost model\n",
    "# path = 'E:\\\\Shobhit\\\\MSDS\\\\Capstone\\\\Y1_Capstone\\\\MLModels'\n",
    "# filename = f'{path}\\\\XGBoost_Age_Scenario1.pkl'\n",
    "# xgclf = pickle.load(open(filename, 'rb'))\n",
    "# print(xgclf)"
   ]
  },
  {
   "cell_type": "markdown",
   "id": "9491566c",
   "metadata": {},
   "source": [
    "#### Evaluating the XGBoost classifier on Training Data Set"
   ]
  },
  {
   "cell_type": "code",
   "execution_count": 61,
   "id": "9568ab4a",
   "metadata": {},
   "outputs": [
    {
     "name": "stdout",
     "output_type": "stream",
     "text": [
      "Evaluating Training performance\n",
      "Accuracy:0.5289388410532837\n",
      "Precision:0.6134263619909293\n",
      "Recall:0.5921453625438445\n",
      "F1Score:0.5695164706698165\n"
     ]
    },
    {
     "data": {
      "image/png": "[encoded data removed]",
      "text/plain": [
       "<Figure size 640x480 with 2 Axes>"
      ]
     },
     "metadata": {},
     "output_type": "display_data"
    }
   ],
   "source": [
    "model_evaluation_dict_age['Model_Name'].append('XGBoost_Basic')\n",
    "evaluate_model(xgclf, X_train_s1, Y_train_s1_age)"
   ]
  },
  {
   "cell_type": "markdown",
   "id": "02f0a587",
   "metadata": {},
   "source": [
    "#### Evaluating the XGBoost classifier on Test Data Set"
   ]
  },
  {
   "cell_type": "code",
   "execution_count": 62,
   "id": "fb8fe705",
   "metadata": {},
   "outputs": [
    {
     "name": "stdout",
     "output_type": "stream",
     "text": [
      "Evaluating Testing performance\n",
      "Accuracy:0.3953359442050584\n",
      "Precision:0.44813701859301436\n",
      "Recall:0.45208081505784836\n",
      "F1Score:0.4257636078709659\n"
     ]
    },
    {
     "data": {
      "image/png": "[encoded data removed]",
      "text/plain": [
       "<Figure size 640x480 with 2 Axes>"
      ]
     },
     "metadata": {},
     "output_type": "display_data"
    }
   ],
   "source": [
    "evaluate_model(xgclf, X_test_s1, Y_test_s1_age, False)"
   ]
  },
  {
   "cell_type": "markdown",
   "id": "f1a6b458",
   "metadata": {},
   "source": [
    "### HyperParemter Tuning XGBoost Model for Predicting `Age` for Scenario 1"
   ]
  },
  {
   "cell_type": "code",
   "execution_count": 63,
   "id": "cec5d732",
   "metadata": {},
   "outputs": [],
   "source": [
    "#StratifiedKFold is used as we want the folds to be created to have the same proportion of class lables as in the data.\n",
    "cross_validation = StratifiedKFold(n_splits=5,shuffle=True,random_state=42)"
   ]
  },
  {
   "cell_type": "code",
   "execution_count": 65,
   "id": "b5a2ff35",
   "metadata": {},
   "outputs": [],
   "source": [
    "#Creating parameter grid\n",
    "param_grid = {\n",
    "\n",
    "    'min_child_weight': [1, 5, 10],\n",
    "\n",
    "    'gamma': [0.5, 1, 1.5, 2, 5],\n",
    "\n",
    "    'subsample': [0.6, 0.8, 1.0],\n",
    "\n",
    "    'colsample_by_tree': [0.6, 0.8, 1.0],\n",
    "\n",
    "    'max_depth': [3, 4, 5],\n",
    "\n",
    "    'n_estimators': range(60, 360, 40),\n",
    "\n",
    "    'learning_rate': [0.1, 0.01, 0.05],\n",
    "\n",
    " }"
   ]
  },
  {
   "cell_type": "code",
   "execution_count": 67,
   "id": "b81cd5fb",
   "metadata": {},
   "outputs": [
    {
     "name": "stdout",
     "output_type": "stream",
     "text": [
      "Fitting 5 folds for each of 10 candidates, totalling 50 fits\n",
      "[17:50:02] WARNING: C:\\buildkite-agent\\builds\\buildkite-windows-cpu-autoscaling-group-i-07593ffd91cd9da33-1\\xgboost\\xgboost-ci-windows\\src\\learner.cc:767: \n",
      "Parameters: { \"colsample_by_tree\" } are not used.\n",
      "\n"
     ]
    },
    {
     "data": {
      "text/html": [
       "<style>#sk-container-id-5 {color: black;background-color: white;}#sk-container-id-5 pre{padding: 0;}#sk-container-id-5 div.sk-toggleable {background-color: white;}#sk-container-id-5 label.sk-toggleable__label {cursor: pointer;display: block;width: 100%;margin-bottom: 0;padding: 0.3em;box-sizing: border-box;text-align: center;}#sk-container-id-5 label.sk-toggleable__label-arrow:before {content: \"▸\";float: left;margin-right: 0.25em;color: #696969;}#sk-container-id-5 label.sk-toggleable__label-arrow:hover:before {color: black;}#sk-container-id-5 div.sk-estimator:hover label.sk-toggleable__label-arrow:before {color: black;}#sk-container-id-5 div.sk-toggleable__content {max-height: 0;max-width: 0;overflow: hidden;text-align: left;background-color: #f0f8ff;}#sk-container-id-5 div.sk-toggleable__content pre {margin: 0.2em;color: black;border-radius: 0.25em;background-color: #f0f8ff;}#sk-container-id-5 input.sk-toggleable__control:checked~div.sk-toggleable__content {max-height: 200px;max-width: 100%;overflow: auto;}#sk-container-id-5 input.sk-toggleable__control:checked~label.sk-toggleable__label-arrow:before {content: \"▾\";}#sk-container-id-5 div.sk-estimator input.sk-toggleable__control:checked~label.sk-toggleable__label {background-color: #d4ebff;}#sk-container-id-5 div.sk-label input.sk-toggleable__control:checked~label.sk-toggleable__label {background-color: #d4ebff;}#sk-container-id-5 input.sk-hidden--visually {border: 0;clip: rect(1px 1px 1px 1px);clip: rect(1px, 1px, 1px, 1px);height: 1px;margin: -1px;overflow: hidden;padding: 0;position: absolute;width: 1px;}#sk-container-id-5 div.sk-estimator {font-family: monospace;background-color: #f0f8ff;border: 1px dotted black;border-radius: 0.25em;box-sizing: border-box;margin-bottom: 0.5em;}#sk-container-id-5 div.sk-estimator:hover {background-color: #d4ebff;}#sk-container-id-5 div.sk-parallel-item::after {content: \"\";width: 100%;border-bottom: 1px solid gray;flex-grow: 1;}#sk-container-id-5 div.sk-label:hover label.sk-toggleable__label {background-color: #d4ebff;}#sk-container-id-5 div.sk-serial::before {content: \"\";position: absolute;border-left: 1px solid gray;box-sizing: border-box;top: 0;bottom: 0;left: 50%;z-index: 0;}#sk-container-id-5 div.sk-serial {display: flex;flex-direction: column;align-items: center;background-color: white;padding-right: 0.2em;padding-left: 0.2em;position: relative;}#sk-container-id-5 div.sk-item {position: relative;z-index: 1;}#sk-container-id-5 div.sk-parallel {display: flex;align-items: stretch;justify-content: center;background-color: white;position: relative;}#sk-container-id-5 div.sk-item::before, #sk-container-id-5 div.sk-parallel-item::before {content: \"\";position: absolute;border-left: 1px solid gray;box-sizing: border-box;top: 0;bottom: 0;left: 50%;z-index: -1;}#sk-container-id-5 div.sk-parallel-item {display: flex;flex-direction: column;z-index: 1;position: relative;background-color: white;}#sk-container-id-5 div.sk-parallel-item:first-child::after {align-self: flex-end;width: 50%;}#sk-container-id-5 div.sk-parallel-item:last-child::after {align-self: flex-start;width: 50%;}#sk-container-id-5 div.sk-parallel-item:only-child::after {width: 0;}#sk-container-id-5 div.sk-dashed-wrapped {border: 1px dashed gray;margin: 0 0.4em 0.5em 0.4em;box-sizing: border-box;padding-bottom: 0.4em;background-color: white;}#sk-container-id-5 div.sk-label label {font-family: monospace;font-weight: bold;display: inline-block;line-height: 1.2em;}#sk-container-id-5 div.sk-label-container {text-align: center;}#sk-container-id-5 div.sk-container {/* jupyter's `normalize.less` sets `[hidden] { display: none; }` but bootstrap.min.css set `[hidden] { display: none !important; }` so we also need the `!important` here to be able to override the default hidden behavior on the sphinx rendered scikit-learn.org. See: https://github.com/scikit-learn/scikit-learn/issues/21755 */display: inline-block !important;position: relative;}#sk-container-id-5 div.sk-text-repr-fallback {display: none;}</style><div id=\"sk-container-id-5\" class=\"sk-top-container\"><div class=\"sk-text-repr-fallback\"><pre>RandomizedSearchCV(cv=StratifiedKFold(n_splits=5, random_state=42, shuffle=True),\n",
       "                   error_score=&#x27;raise&#x27;,\n",
       "                   estimator=XGBClassifier(base_score=None, booster=None,\n",
       "                                           callbacks=None,\n",
       "                                           colsample_bylevel=None,\n",
       "                                           colsample_bynode=None,\n",
       "                                           colsample_bytree=None,\n",
       "                                           early_stopping_rounds=None,\n",
       "                                           enable_categorical=False,\n",
       "                                           eval_metric=None, feature_types=None,\n",
       "                                           gamma=None, gpu_id=None,\n",
       "                                           grow_...\n",
       "                                           monotone_constraints=None,\n",
       "                                           n_estimators=100, n_jobs=None,\n",
       "                                           num_parallel_tree=None,\n",
       "                                           predictor=None, random_state=None, ...),\n",
       "                   n_jobs=-1,\n",
       "                   param_distributions={&#x27;colsample_by_tree&#x27;: [0.6, 0.8, 1.0],\n",
       "                                        &#x27;gamma&#x27;: [0.5, 1, 1.5, 2, 5],\n",
       "                                        &#x27;learning_rate&#x27;: [0.1, 0.01, 0.05],\n",
       "                                        &#x27;max_depth&#x27;: [3, 4, 5],\n",
       "                                        &#x27;min_child_weight&#x27;: [1, 5, 10],\n",
       "                                        &#x27;n_estimators&#x27;: range(60, 360, 40),\n",
       "                                        &#x27;subsample&#x27;: [0.6, 0.8, 1.0]},\n",
       "                   random_state=100, verbose=4)</pre><b>In a Jupyter environment, please rerun this cell to show the HTML representation or trust the notebook. <br />On GitHub, the HTML representation is unable to render, please try loading this page with nbviewer.org.</b></div><div class=\"sk-container\" hidden><div class=\"sk-item sk-dashed-wrapped\"><div class=\"sk-label-container\"><div class=\"sk-label sk-toggleable\"><input class=\"sk-toggleable__control sk-hidden--visually\" id=\"sk-estimator-id-5\" type=\"checkbox\" ><label for=\"sk-estimator-id-5\" class=\"sk-toggleable__label sk-toggleable__label-arrow\">RandomizedSearchCV</label><div class=\"sk-toggleable__content\"><pre>RandomizedSearchCV(cv=StratifiedKFold(n_splits=5, random_state=42, shuffle=True),\n",
       "                   error_score=&#x27;raise&#x27;,\n",
       "                   estimator=XGBClassifier(base_score=None, booster=None,\n",
       "                                           callbacks=None,\n",
       "                                           colsample_bylevel=None,\n",
       "                                           colsample_bynode=None,\n",
       "                                           colsample_bytree=None,\n",
       "                                           early_stopping_rounds=None,\n",
       "                                           enable_categorical=False,\n",
       "                                           eval_metric=None, feature_types=None,\n",
       "                                           gamma=None, gpu_id=None,\n",
       "                                           grow_...\n",
       "                                           monotone_constraints=None,\n",
       "                                           n_estimators=100, n_jobs=None,\n",
       "                                           num_parallel_tree=None,\n",
       "                                           predictor=None, random_state=None, ...),\n",
       "                   n_jobs=-1,\n",
       "                   param_distributions={&#x27;colsample_by_tree&#x27;: [0.6, 0.8, 1.0],\n",
       "                                        &#x27;gamma&#x27;: [0.5, 1, 1.5, 2, 5],\n",
       "                                        &#x27;learning_rate&#x27;: [0.1, 0.01, 0.05],\n",
       "                                        &#x27;max_depth&#x27;: [3, 4, 5],\n",
       "                                        &#x27;min_child_weight&#x27;: [1, 5, 10],\n",
       "                                        &#x27;n_estimators&#x27;: range(60, 360, 40),\n",
       "                                        &#x27;subsample&#x27;: [0.6, 0.8, 1.0]},\n",
       "                   random_state=100, verbose=4)</pre></div></div></div><div class=\"sk-parallel\"><div class=\"sk-parallel-item\"><div class=\"sk-item\"><div class=\"sk-label-container\"><div class=\"sk-label sk-toggleable\"><input class=\"sk-toggleable__control sk-hidden--visually\" id=\"sk-estimator-id-6\" type=\"checkbox\" ><label for=\"sk-estimator-id-6\" class=\"sk-toggleable__label sk-toggleable__label-arrow\">estimator: XGBClassifier</label><div class=\"sk-toggleable__content\"><pre>XGBClassifier(base_score=None, booster=None, callbacks=None,\n",
       "              colsample_bylevel=None, colsample_bynode=None,\n",
       "              colsample_bytree=None, early_stopping_rounds=None,\n",
       "              enable_categorical=False, eval_metric=None, feature_types=None,\n",
       "              gamma=None, gpu_id=None, grow_policy=None, importance_type=None,\n",
       "              interaction_constraints=None, learning_rate=None, max_bin=None,\n",
       "              max_cat_threshold=None, max_cat_to_onehot=None,\n",
       "              max_delta_step=None, max_depth=None, max_leaves=None,\n",
       "              min_child_weight=None, missing=nan, monotone_constraints=None,\n",
       "              n_estimators=100, n_jobs=None, num_parallel_tree=None,\n",
       "              predictor=None, random_state=None, ...)</pre></div></div></div><div class=\"sk-serial\"><div class=\"sk-item\"><div class=\"sk-estimator sk-toggleable\"><input class=\"sk-toggleable__control sk-hidden--visually\" id=\"sk-estimator-id-7\" type=\"checkbox\" ><label for=\"sk-estimator-id-7\" class=\"sk-toggleable__label sk-toggleable__label-arrow\">XGBClassifier</label><div class=\"sk-toggleable__content\"><pre>XGBClassifier(base_score=None, booster=None, callbacks=None,\n",
       "              colsample_bylevel=None, colsample_bynode=None,\n",
       "              colsample_bytree=None, early_stopping_rounds=None,\n",
       "              enable_categorical=False, eval_metric=None, feature_types=None,\n",
       "              gamma=None, gpu_id=None, grow_policy=None, importance_type=None,\n",
       "              interaction_constraints=None, learning_rate=None, max_bin=None,\n",
       "              max_cat_threshold=None, max_cat_to_onehot=None,\n",
       "              max_delta_step=None, max_depth=None, max_leaves=None,\n",
       "              min_child_weight=None, missing=nan, monotone_constraints=None,\n",
       "              n_estimators=100, n_jobs=None, num_parallel_tree=None,\n",
       "              predictor=None, random_state=None, ...)</pre></div></div></div></div></div></div></div></div></div></div>"
      ],
      "text/plain": [
       "RandomizedSearchCV(cv=StratifiedKFold(n_splits=5, random_state=42, shuffle=True),\n",
       "                   error_score='raise',\n",
       "                   estimator=XGBClassifier(base_score=None, booster=None,\n",
       "                                           callbacks=None,\n",
       "                                           colsample_bylevel=None,\n",
       "                                           colsample_bynode=None,\n",
       "                                           colsample_bytree=None,\n",
       "                                           early_stopping_rounds=None,\n",
       "                                           enable_categorical=False,\n",
       "                                           eval_metric=None, feature_types=None,\n",
       "                                           gamma=None, gpu_id=None,\n",
       "                                           grow_...\n",
       "                                           monotone_constraints=None,\n",
       "                                           n_estimators=100, n_jobs=None,\n",
       "                                           num_parallel_tree=None,\n",
       "                                           predictor=None, random_state=None, ...),\n",
       "                   n_jobs=-1,\n",
       "                   param_distributions={'colsample_by_tree': [0.6, 0.8, 1.0],\n",
       "                                        'gamma': [0.5, 1, 1.5, 2, 5],\n",
       "                                        'learning_rate': [0.1, 0.01, 0.05],\n",
       "                                        'max_depth': [3, 4, 5],\n",
       "                                        'min_child_weight': [1, 5, 10],\n",
       "                                        'n_estimators': range(60, 360, 40),\n",
       "                                        'subsample': [0.6, 0.8, 1.0]},\n",
       "                   random_state=100, verbose=4)"
      ]
     },
     "execution_count": 67,
     "metadata": {},
     "output_type": "execute_result"
    }
   ],
   "source": [
    "#Training XGBoost Model\n",
    "xgb_model = xgb.XGBClassifier()\n",
    "clf_xgb_grid = RandomizedSearchCV(xgb_model,\n",
    "                              param_grid,\n",
    "                               cv=cross_validation,\n",
    "                               verbose=4,\n",
    "                               n_jobs=-1,\n",
    "                               random_state = 100,\n",
    "                               error_score=\"raise\")\n",
    "clf_xgb_grid.fit(X_train_s1, Y_train_s1_age)"
   ]
  },
  {
   "cell_type": "code",
   "execution_count": 68,
   "id": "48498676",
   "metadata": {},
   "outputs": [
    {
     "name": "stdout",
     "output_type": "stream",
     "text": [
      "{'subsample': 0.6, 'n_estimators': 140, 'min_child_weight': 5, 'max_depth': 3, 'learning_rate': 0.05, 'gamma': 2, 'colsample_by_tree': 0.8}\n",
      "0.4655277429796887\n",
      "XGBClassifier(base_score=None, booster=None, callbacks=None,\n",
      "              colsample_by_tree=0.8, colsample_bylevel=None,\n",
      "              colsample_bynode=None, colsample_bytree=None,\n",
      "              early_stopping_rounds=None, enable_categorical=False,\n",
      "              eval_metric=None, feature_types=None, gamma=2, gpu_id=None,\n",
      "              grow_policy=None, importance_type=None,\n",
      "              interaction_constraints=None, learning_rate=0.05, max_bin=None,\n",
      "              max_cat_threshold=None, max_cat_to_onehot=None,\n",
      "              max_delta_step=None, max_depth=3, max_leaves=None,\n",
      "              min_child_weight=5, missing=nan, monotone_constraints=None,\n",
      "              n_estimators=140, n_jobs=None, num_parallel_tree=None,\n",
      "              objective='multi:softprob', ...)\n"
     ]
    }
   ],
   "source": [
    "print(clf_xgb_grid.best_params_)\n",
    "print(clf_xgb_grid.best_score_)\n",
    "print(clf_xgb_grid.best_estimator_)\n",
    "best_clf_xgb_grid = clf_xgb_grid.best_estimator_\n",
    "xgb_hpt = best_clf_xgb_grid"
   ]
  },
  {
   "cell_type": "code",
   "execution_count": 79,
   "id": "9f964135",
   "metadata": {},
   "outputs": [],
   "source": [
    "#Saving the model\n",
    "path = 'E:\\Shobhit\\MSDS\\Capstone\\Y1_Capstone\\MLModels\\Age Prediction'\n",
    "filename = f'{path}\\\\XGBoostHPT_Age_Scenario1.pkl'\n",
    "pickle.dump(best_clf_xgb_grid, open(filename, 'wb'))"
   ]
  },
  {
   "cell_type": "code",
   "execution_count": 70,
   "id": "c8becde4",
   "metadata": {},
   "outputs": [],
   "source": [
    "#Reading saved model for XGBoost with Grid Search\n",
    "# path = 'E:\\\\Shobhit\\\\MSDS\\\\Capstone\\\\Y1_Capstone\\\\MLModels'\n",
    "# filename = f'{path}\\\\XGBoostHPT_Age_Scenario1.pkl'\n",
    "# xgb_hpt = pickle.load(open(filename, 'rb'))\n",
    "# print(xgb_hpt)"
   ]
  },
  {
   "cell_type": "markdown",
   "id": "b42b2f1a",
   "metadata": {},
   "source": [
    "#### Evaluating the XGBoost with Hyper Parameter Tuning  on Training Data Set"
   ]
  },
  {
   "cell_type": "code",
   "execution_count": 71,
   "id": "66fc33ce",
   "metadata": {},
   "outputs": [
    {
     "name": "stdout",
     "output_type": "stream",
     "text": [
      "Evaluating Training performance\n",
      "Accuracy:0.4116090151918795\n",
      "Precision:0.49382038782094567\n",
      "Recall:0.4845609798171468\n",
      "F1Score:0.4412915454958824\n"
     ]
    },
    {
     "data": {
      "image/png": "[encoded data removed]",
      "text/plain": [
       "<Figure size 640x480 with 2 Axes>"
      ]
     },
     "metadata": {},
     "output_type": "display_data"
    }
   ],
   "source": [
    "model_evaluation_dict_age['Model_Name'].append('XGBoost_HPT')\n",
    "evaluate_model(xgb_hpt, X_train_s1, Y_train_s1_age)"
   ]
  },
  {
   "cell_type": "markdown",
   "id": "c3bfde78",
   "metadata": {},
   "source": [
    "#### Evaluating the XGBoost with Grid Search classifier on Test Data Set"
   ]
  },
  {
   "cell_type": "code",
   "execution_count": 72,
   "id": "648ebf89",
   "metadata": {},
   "outputs": [
    {
     "name": "stdout",
     "output_type": "stream",
     "text": [
      "Evaluating Testing performance\n",
      "Accuracy:0.39045671361640083\n",
      "Precision:0.46184190099006434\n",
      "Recall:0.4598514936971162\n",
      "F1Score:0.41591907393849925\n"
     ]
    },
    {
     "data": {
      "image/png": "[encoded data removed]",
      "text/plain": [
       "<Figure size 640x480 with 2 Axes>"
      ]
     },
     "metadata": {},
     "output_type": "display_data"
    }
   ],
   "source": [
    "evaluate_model(xgb_hpt, X_test_s1, Y_test_s1_age, False)"
   ]
  },
  {
   "cell_type": "markdown",
   "id": "1296fd08",
   "metadata": {},
   "source": [
    "### Stacking Classifier Model  for Predicting `Age` for Scenario 1"
   ]
  },
  {
   "cell_type": "code",
   "execution_count": 73,
   "id": "f4bbdac1",
   "metadata": {},
   "outputs": [],
   "source": [
    "# 1st set of models\n",
    "clf1 = LogisticRegression(class_weight = class_weights, random_state=100)\n",
    "clf2 = RandomForestClassifier(class_weight = class_weights,random_state=100,n_jobs=-1)\n",
    "xgb_m = xgb.XGBClassifier()\n",
    "\n",
    "stacking_classifier = StackingCVClassifier(classifiers=[clf1, clf2], meta_classifier=xgb_m, use_probas=True, cv=cross_validation, random_state=100)"
   ]
  },
  {
   "cell_type": "code",
   "execution_count": 74,
   "id": "e2acf080",
   "metadata": {},
   "outputs": [
    {
     "name": "stdout",
     "output_type": "stream",
     "text": [
      "Accuracy: 0.42 (+/- 0.00) [lr]\n",
      "Accuracy: 0.42 (+/- 0.01) [Random Forest]\n",
      "Accuracy: 0.43 (+/- 0.01) [StackingClassifier]\n"
     ]
    }
   ],
   "source": [
    "#Training Stacking Classifier Model on train data\n",
    "# Performing Cross Validation on Stacking Classifier\n",
    "\n",
    "for clf, label in zip([clf1, clf2, stacking_classifier], \n",
    "                      ['lr', \n",
    "                       'Random Forest', \n",
    "                       'StackingClassifier']):\n",
    "\n",
    "    scores = model_selection.cross_val_score(clf, X_train_s1, Y_train_s1_age, cv=cross_validation, scoring='accuracy')\n",
    "    print(\"Accuracy: %0.2f (+/- %0.2f) [%s]\" % (scores.mean(), scores.std(), label))"
   ]
  },
  {
   "cell_type": "code",
   "execution_count": 76,
   "id": "19a3c421",
   "metadata": {},
   "outputs": [],
   "source": [
    "#Fitting the Stacking Classifier on Training Data\n",
    "sclf_fit = stacking_classifier.fit(X_train_s1, Y_train_s1_age)"
   ]
  },
  {
   "cell_type": "code",
   "execution_count": 77,
   "id": "2004e79c",
   "metadata": {},
   "outputs": [
    {
     "data": {
      "text/html": [
       "<style>#sk-container-id-6 {color: black;background-color: white;}#sk-container-id-6 pre{padding: 0;}#sk-container-id-6 div.sk-toggleable {background-color: white;}#sk-container-id-6 label.sk-toggleable__label {cursor: pointer;display: block;width: 100%;margin-bottom: 0;padding: 0.3em;box-sizing: border-box;text-align: center;}#sk-container-id-6 label.sk-toggleable__label-arrow:before {content: \"▸\";float: left;margin-right: 0.25em;color: #696969;}#sk-container-id-6 label.sk-toggleable__label-arrow:hover:before {color: black;}#sk-container-id-6 div.sk-estimator:hover label.sk-toggleable__label-arrow:before {color: black;}#sk-container-id-6 div.sk-toggleable__content {max-height: 0;max-width: 0;overflow: hidden;text-align: left;background-color: #f0f8ff;}#sk-container-id-6 div.sk-toggleable__content pre {margin: 0.2em;color: black;border-radius: 0.25em;background-color: #f0f8ff;}#sk-container-id-6 input.sk-toggleable__control:checked~div.sk-toggleable__content {max-height: 200px;max-width: 100%;overflow: auto;}#sk-container-id-6 input.sk-toggleable__control:checked~label.sk-toggleable__label-arrow:before {content: \"▾\";}#sk-container-id-6 div.sk-estimator input.sk-toggleable__control:checked~label.sk-toggleable__label {background-color: #d4ebff;}#sk-container-id-6 div.sk-label input.sk-toggleable__control:checked~label.sk-toggleable__label {background-color: #d4ebff;}#sk-container-id-6 input.sk-hidden--visually {border: 0;clip: rect(1px 1px 1px 1px);clip: rect(1px, 1px, 1px, 1px);height: 1px;margin: -1px;overflow: hidden;padding: 0;position: absolute;width: 1px;}#sk-container-id-6 div.sk-estimator {font-family: monospace;background-color: #f0f8ff;border: 1px dotted black;border-radius: 0.25em;box-sizing: border-box;margin-bottom: 0.5em;}#sk-container-id-6 div.sk-estimator:hover {background-color: #d4ebff;}#sk-container-id-6 div.sk-parallel-item::after {content: \"\";width: 100%;border-bottom: 1px solid gray;flex-grow: 1;}#sk-container-id-6 div.sk-label:hover label.sk-toggleable__label {background-color: #d4ebff;}#sk-container-id-6 div.sk-serial::before {content: \"\";position: absolute;border-left: 1px solid gray;box-sizing: border-box;top: 0;bottom: 0;left: 50%;z-index: 0;}#sk-container-id-6 div.sk-serial {display: flex;flex-direction: column;align-items: center;background-color: white;padding-right: 0.2em;padding-left: 0.2em;position: relative;}#sk-container-id-6 div.sk-item {position: relative;z-index: 1;}#sk-container-id-6 div.sk-parallel {display: flex;align-items: stretch;justify-content: center;background-color: white;position: relative;}#sk-container-id-6 div.sk-item::before, #sk-container-id-6 div.sk-parallel-item::before {content: \"\";position: absolute;border-left: 1px solid gray;box-sizing: border-box;top: 0;bottom: 0;left: 50%;z-index: -1;}#sk-container-id-6 div.sk-parallel-item {display: flex;flex-direction: column;z-index: 1;position: relative;background-color: white;}#sk-container-id-6 div.sk-parallel-item:first-child::after {align-self: flex-end;width: 50%;}#sk-container-id-6 div.sk-parallel-item:last-child::after {align-self: flex-start;width: 50%;}#sk-container-id-6 div.sk-parallel-item:only-child::after {width: 0;}#sk-container-id-6 div.sk-dashed-wrapped {border: 1px dashed gray;margin: 0 0.4em 0.5em 0.4em;box-sizing: border-box;padding-bottom: 0.4em;background-color: white;}#sk-container-id-6 div.sk-label label {font-family: monospace;font-weight: bold;display: inline-block;line-height: 1.2em;}#sk-container-id-6 div.sk-label-container {text-align: center;}#sk-container-id-6 div.sk-container {/* jupyter's `normalize.less` sets `[hidden] { display: none; }` but bootstrap.min.css set `[hidden] { display: none !important; }` so we also need the `!important` here to be able to override the default hidden behavior on the sphinx rendered scikit-learn.org. See: https://github.com/scikit-learn/scikit-learn/issues/21755 */display: inline-block !important;position: relative;}#sk-container-id-6 div.sk-text-repr-fallback {display: none;}</style><div id=\"sk-container-id-6\" class=\"sk-top-container\"><div class=\"sk-text-repr-fallback\"><pre>StackingCVClassifier(classifiers=[LogisticRegression(class_weight={0: 1.64081517124257,\n",
       "                                                                   1: 0.8180920124188541,\n",
       "                                                                   2: 0.8560248080330773},\n",
       "                                                     random_state=100),\n",
       "                                  RandomForestClassifier(class_weight={0: 1.64081517124257,\n",
       "                                                                       1: 0.8180920124188541,\n",
       "                                                                       2: 0.8560248080330773},\n",
       "                                                         n_jobs=-1,\n",
       "                                                         random_state=100)],\n",
       "                     cv=StratifiedKFold(n_splits=5, random_state=42, shuffle=True),\n",
       "                     meta_classifier...\n",
       "                                                   importance_type=None,\n",
       "                                                   interaction_constraints=None,\n",
       "                                                   learning_rate=None,\n",
       "                                                   max_bin=None,\n",
       "                                                   max_cat_threshold=None,\n",
       "                                                   max_cat_to_onehot=None,\n",
       "                                                   max_delta_step=None,\n",
       "                                                   max_depth=None,\n",
       "                                                   max_leaves=None,\n",
       "                                                   min_child_weight=None,\n",
       "                                                   missing=nan,\n",
       "                                                   monotone_constraints=None,\n",
       "                                                   n_estimators=100,\n",
       "                                                   n_jobs=None,\n",
       "                                                   num_parallel_tree=None,\n",
       "                                                   predictor=None,\n",
       "                                                   random_state=None, ...),\n",
       "                     random_state=100, use_probas=True)</pre><b>In a Jupyter environment, please rerun this cell to show the HTML representation or trust the notebook. <br />On GitHub, the HTML representation is unable to render, please try loading this page with nbviewer.org.</b></div><div class=\"sk-container\" hidden><div class=\"sk-item sk-dashed-wrapped\"><div class=\"sk-label-container\"><div class=\"sk-label sk-toggleable\"><input class=\"sk-toggleable__control sk-hidden--visually\" id=\"sk-estimator-id-8\" type=\"checkbox\" ><label for=\"sk-estimator-id-8\" class=\"sk-toggleable__label sk-toggleable__label-arrow\">StackingCVClassifier</label><div class=\"sk-toggleable__content\"><pre>StackingCVClassifier(classifiers=[LogisticRegression(class_weight={0: 1.64081517124257,\n",
       "                                                                   1: 0.8180920124188541,\n",
       "                                                                   2: 0.8560248080330773},\n",
       "                                                     random_state=100),\n",
       "                                  RandomForestClassifier(class_weight={0: 1.64081517124257,\n",
       "                                                                       1: 0.8180920124188541,\n",
       "                                                                       2: 0.8560248080330773},\n",
       "                                                         n_jobs=-1,\n",
       "                                                         random_state=100)],\n",
       "                     cv=StratifiedKFold(n_splits=5, random_state=42, shuffle=True),\n",
       "                     meta_classifier...\n",
       "                                                   importance_type=None,\n",
       "                                                   interaction_constraints=None,\n",
       "                                                   learning_rate=None,\n",
       "                                                   max_bin=None,\n",
       "                                                   max_cat_threshold=None,\n",
       "                                                   max_cat_to_onehot=None,\n",
       "                                                   max_delta_step=None,\n",
       "                                                   max_depth=None,\n",
       "                                                   max_leaves=None,\n",
       "                                                   min_child_weight=None,\n",
       "                                                   missing=nan,\n",
       "                                                   monotone_constraints=None,\n",
       "                                                   n_estimators=100,\n",
       "                                                   n_jobs=None,\n",
       "                                                   num_parallel_tree=None,\n",
       "                                                   predictor=None,\n",
       "                                                   random_state=None, ...),\n",
       "                     random_state=100, use_probas=True)</pre></div></div></div><div class=\"sk-parallel\"><div class=\"sk-parallel-item\"><div class=\"sk-item\"><div class=\"sk-label-container\"><div class=\"sk-label sk-toggleable\"><input class=\"sk-toggleable__control sk-hidden--visually\" id=\"sk-estimator-id-9\" type=\"checkbox\" ><label for=\"sk-estimator-id-9\" class=\"sk-toggleable__label sk-toggleable__label-arrow\">meta_classifier: XGBClassifier</label><div class=\"sk-toggleable__content\"><pre>XGBClassifier(base_score=None, booster=None, callbacks=None,\n",
       "              colsample_bylevel=None, colsample_bynode=None,\n",
       "              colsample_bytree=None, early_stopping_rounds=None,\n",
       "              enable_categorical=False, eval_metric=None, feature_types=None,\n",
       "              gamma=None, gpu_id=None, grow_policy=None, importance_type=None,\n",
       "              interaction_constraints=None, learning_rate=None, max_bin=None,\n",
       "              max_cat_threshold=None, max_cat_to_onehot=None,\n",
       "              max_delta_step=None, max_depth=None, max_leaves=None,\n",
       "              min_child_weight=None, missing=nan, monotone_constraints=None,\n",
       "              n_estimators=100, n_jobs=None, num_parallel_tree=None,\n",
       "              predictor=None, random_state=None, ...)</pre></div></div></div><div class=\"sk-serial\"><div class=\"sk-item\"><div class=\"sk-estimator sk-toggleable\"><input class=\"sk-toggleable__control sk-hidden--visually\" id=\"sk-estimator-id-10\" type=\"checkbox\" ><label for=\"sk-estimator-id-10\" class=\"sk-toggleable__label sk-toggleable__label-arrow\">XGBClassifier</label><div class=\"sk-toggleable__content\"><pre>XGBClassifier(base_score=None, booster=None, callbacks=None,\n",
       "              colsample_bylevel=None, colsample_bynode=None,\n",
       "              colsample_bytree=None, early_stopping_rounds=None,\n",
       "              enable_categorical=False, eval_metric=None, feature_types=None,\n",
       "              gamma=None, gpu_id=None, grow_policy=None, importance_type=None,\n",
       "              interaction_constraints=None, learning_rate=None, max_bin=None,\n",
       "              max_cat_threshold=None, max_cat_to_onehot=None,\n",
       "              max_delta_step=None, max_depth=None, max_leaves=None,\n",
       "              min_child_weight=None, missing=nan, monotone_constraints=None,\n",
       "              n_estimators=100, n_jobs=None, num_parallel_tree=None,\n",
       "              predictor=None, random_state=None, ...)</pre></div></div></div></div></div></div></div></div></div></div>"
      ],
      "text/plain": [
       "StackingCVClassifier(classifiers=[LogisticRegression(class_weight={0: 1.64081517124257,\n",
       "                                                                   1: 0.8180920124188541,\n",
       "                                                                   2: 0.8560248080330773},\n",
       "                                                     random_state=100),\n",
       "                                  RandomForestClassifier(class_weight={0: 1.64081517124257,\n",
       "                                                                       1: 0.8180920124188541,\n",
       "                                                                       2: 0.8560248080330773},\n",
       "                                                         n_jobs=-1,\n",
       "                                                         random_state=100)],\n",
       "                     cv=StratifiedKFold(n_splits=5, random_state=42, shuffle=True),\n",
       "                     meta_classifier...\n",
       "                                                   importance_type=None,\n",
       "                                                   interaction_constraints=None,\n",
       "                                                   learning_rate=None,\n",
       "                                                   max_bin=None,\n",
       "                                                   max_cat_threshold=None,\n",
       "                                                   max_cat_to_onehot=None,\n",
       "                                                   max_delta_step=None,\n",
       "                                                   max_depth=None,\n",
       "                                                   max_leaves=None,\n",
       "                                                   min_child_weight=None,\n",
       "                                                   missing=nan,\n",
       "                                                   monotone_constraints=None,\n",
       "                                                   n_estimators=100,\n",
       "                                                   n_jobs=None,\n",
       "                                                   num_parallel_tree=None,\n",
       "                                                   predictor=None,\n",
       "                                                   random_state=None, ...),\n",
       "                     random_state=100, use_probas=True)"
      ]
     },
     "execution_count": 77,
     "metadata": {},
     "output_type": "execute_result"
    }
   ],
   "source": [
    "sclf_fit"
   ]
  },
  {
   "cell_type": "code",
   "execution_count": 78,
   "id": "f65a7a2c",
   "metadata": {},
   "outputs": [],
   "source": [
    "# Saving the Stacking Classifier Model as a pickle in a file\n",
    "path = 'E:\\Shobhit\\MSDS\\Capstone\\Y1_Capstone\\MLModels\\Age Prediction'\n",
    "filename = f'{path}\\\\Stacking_Classifier_Age_Scenario1.pkl'\n",
    "pickle.dump(sclf_fit, open(filename, 'wb'))"
   ]
  },
  {
   "cell_type": "code",
   "execution_count": 80,
   "id": "a1ec7bde",
   "metadata": {},
   "outputs": [],
   "source": [
    "# Reading saved Stacking Classifier model\n",
    "# path = 'E:\\\\Shobhit\\\\MSDS\\\\Capstone\\\\Y1_Capstone\\\\MLModels'\n",
    "# filename = f'{path}\\\\Stacking_Classifier_Age_Scenario1.pkl'\n",
    "# sclf_fit = pickle.load(open(filename, 'rb'))\n",
    "# print(sclf_fit)"
   ]
  },
  {
   "cell_type": "markdown",
   "id": "068e697c",
   "metadata": {},
   "source": [
    "#### Evaluating the Stacking Classifier on Training Data Set"
   ]
  },
  {
   "cell_type": "code",
   "execution_count": 81,
   "id": "76957161",
   "metadata": {},
   "outputs": [
    {
     "name": "stdout",
     "output_type": "stream",
     "text": [
      "Evaluating Training performance\n",
      "Accuracy:0.37743528930339165\n",
      "Precision:0.410109006856423\n",
      "Recall:0.42947501581277675\n",
      "F1Score:0.4099079449232443\n"
     ]
    },
    {
     "data": {
      "image/png": "[encoded data removed]",
      "text/plain": [
       "<Figure size 640x480 with 2 Axes>"
      ]
     },
     "metadata": {},
     "output_type": "display_data"
    }
   ],
   "source": [
    "model_evaluation_dict_age['Model_Name'].append('Stacking_Classifier')\n",
    "evaluate_model(sclf_fit,X_train_s1, Y_train_s1_age)"
   ]
  },
  {
   "cell_type": "markdown",
   "id": "5b8e4f66",
   "metadata": {},
   "source": [
    "#### Evaluating the Stacking Classifier Model on Test Data Set"
   ]
  },
  {
   "cell_type": "code",
   "execution_count": 82,
   "id": "fd17af0a",
   "metadata": {},
   "outputs": [
    {
     "name": "stdout",
     "output_type": "stream",
     "text": [
      "Evaluating Testing performance\n",
      "Accuracy:0.37677907349902506\n",
      "Precision:0.41518740139547083\n",
      "Recall:0.43135900535313415\n",
      "F1Score:0.4067482305717853\n"
     ]
    },
    {
     "data": {
      "image/png": "[encoded data removed]",
      "text/plain": [
       "<Figure size 640x480 with 2 Axes>"
      ]
     },
     "metadata": {},
     "output_type": "display_data"
    }
   ],
   "source": [
    "evaluate_model(sclf_fit, X_test_s1, Y_test_s1_age, False)"
   ]
  },
  {
   "cell_type": "markdown",
   "id": "25250da5",
   "metadata": {},
   "source": [
    "### Evaluation Metrics"
   ]
  },
  {
   "cell_type": "code",
   "execution_count": 91,
   "id": "c70c1191",
   "metadata": {},
   "outputs": [
    {
     "data": {
      "text/plain": [
       "{'Model_Name': ['Logistic_Regression',\n",
       "  'XGBoost_Basic',\n",
       "  'XGBoost_HPT',\n",
       "  'Stacking_Classifier'],\n",
       " 'Training_Accuracy': [0.4854164531592122,\n",
       "  0.5289388410532837,\n",
       "  0.4116090151918795,\n",
       "  0.37743528930339165],\n",
       " 'Testing_Accuracy': [0.430699357693958,\n",
       "  0.3953359442050584,\n",
       "  0.39045671361640083,\n",
       "  0.37677907349902506],\n",
       " 'Precision_Training': [0.4965448389273585,\n",
       "  0.6134263619909293,\n",
       "  0.49382038782094567,\n",
       "  0.410109006856423],\n",
       " 'Precision_Testing': [0.44077343170206945,\n",
       "  0.44813701859301436,\n",
       "  0.46184190099006434,\n",
       "  0.41518740139547083],\n",
       " 'Recall_Training': [0.4704157322753148,\n",
       "  0.5921453625438445,\n",
       "  0.4845609798171468,\n",
       "  0.42947501581277675],\n",
       " 'Recall_Testing': [0.4194439647729235,\n",
       "  0.45208081505784836,\n",
       "  0.4598514936971162,\n",
       "  0.43135900535313415],\n",
       " 'F1Score_Training': [0.4709104407530134,\n",
       "  0.5695164706698165,\n",
       "  0.4412915454958824,\n",
       "  0.4099079449232443],\n",
       " 'F1Score_Testing': [0.42054007306029817,\n",
       "  0.4257636078709659,\n",
       "  0.41591907393849925,\n",
       "  0.4067482305717853],\n",
       " 'Multiclass_log_loss_Training': [10.843638612857934,\n",
       "  0.7805036583980172,\n",
       "  0.33960846205104633,\n",
       "  2.591748789336925],\n",
       " 'Multiclass_log_loss_Testing': [11.463223662755714,\n",
       "  1.3538770923233865,\n",
       "  0.36978140847599184,\n",
       "  1.9085492050373725]}"
      ]
     },
     "execution_count": 91,
     "metadata": {},
     "output_type": "execute_result"
    }
   ],
   "source": [
    "model_evaluation_dict_age"
   ]
  },
  {
   "cell_type": "code",
   "execution_count": 92,
   "id": "ebf14517",
   "metadata": {},
   "outputs": [],
   "source": [
    "df_evaluation_age_s1 = pd.DataFrame(model_evaluation_dict_age)"
   ]
  },
  {
   "cell_type": "code",
   "execution_count": 93,
   "id": "c780eff0",
   "metadata": {},
   "outputs": [
    {
     "data": {
      "text/html": [
       "<div>\n",
       "<style scoped>\n",
       "    .dataframe tbody tr th:only-of-type {\n",
       "        vertical-align: middle;\n",
       "    }\n",
       "\n",
       "    .dataframe tbody tr th {\n",
       "        vertical-align: top;\n",
       "    }\n",
       "\n",
       "    .dataframe thead th {\n",
       "        text-align: right;\n",
       "    }\n",
       "</style>\n",
       "<table border=\"1\" class=\"dataframe\">\n",
       "  <thead>\n",
       "    <tr style=\"text-align: right;\">\n",
       "      <th></th>\n",
       "      <th>Model_Name</th>\n",
       "      <th>Training_Accuracy</th>\n",
       "      <th>Testing_Accuracy</th>\n",
       "      <th>Precision_Training</th>\n",
       "      <th>Precision_Testing</th>\n",
       "      <th>Recall_Training</th>\n",
       "      <th>Recall_Testing</th>\n",
       "      <th>F1Score_Training</th>\n",
       "      <th>F1Score_Testing</th>\n",
       "      <th>Multiclass_log_loss_Training</th>\n",
       "      <th>Multiclass_log_loss_Testing</th>\n",
       "    </tr>\n",
       "  </thead>\n",
       "  <tbody>\n",
       "    <tr>\n",
       "      <th>0</th>\n",
       "      <td>Logistic_Regression</td>\n",
       "      <td>0.485416</td>\n",
       "      <td>0.430699</td>\n",
       "      <td>0.496545</td>\n",
       "      <td>0.440773</td>\n",
       "      <td>0.470416</td>\n",
       "      <td>0.419444</td>\n",
       "      <td>0.470910</td>\n",
       "      <td>0.420540</td>\n",
       "      <td>10.843639</td>\n",
       "      <td>11.463224</td>\n",
       "    </tr>\n",
       "    <tr>\n",
       "      <th>1</th>\n",
       "      <td>XGBoost_Basic</td>\n",
       "      <td>0.528939</td>\n",
       "      <td>0.395336</td>\n",
       "      <td>0.613426</td>\n",
       "      <td>0.448137</td>\n",
       "      <td>0.592145</td>\n",
       "      <td>0.452081</td>\n",
       "      <td>0.569516</td>\n",
       "      <td>0.425764</td>\n",
       "      <td>0.780504</td>\n",
       "      <td>1.353877</td>\n",
       "    </tr>\n",
       "    <tr>\n",
       "      <th>2</th>\n",
       "      <td>XGBoost_HPT</td>\n",
       "      <td>0.411609</td>\n",
       "      <td>0.390457</td>\n",
       "      <td>0.493820</td>\n",
       "      <td>0.461842</td>\n",
       "      <td>0.484561</td>\n",
       "      <td>0.459851</td>\n",
       "      <td>0.441292</td>\n",
       "      <td>0.415919</td>\n",
       "      <td>0.339608</td>\n",
       "      <td>0.369781</td>\n",
       "    </tr>\n",
       "    <tr>\n",
       "      <th>3</th>\n",
       "      <td>Stacking_Classifier</td>\n",
       "      <td>0.377435</td>\n",
       "      <td>0.376779</td>\n",
       "      <td>0.410109</td>\n",
       "      <td>0.415187</td>\n",
       "      <td>0.429475</td>\n",
       "      <td>0.431359</td>\n",
       "      <td>0.409908</td>\n",
       "      <td>0.406748</td>\n",
       "      <td>2.591749</td>\n",
       "      <td>1.908549</td>\n",
       "    </tr>\n",
       "  </tbody>\n",
       "</table>\n",
       "</div>"
      ],
      "text/plain": [
       "            Model_Name  Training_Accuracy  Testing_Accuracy  \\\n",
       "0  Logistic_Regression           0.485416          0.430699   \n",
       "1        XGBoost_Basic           0.528939          0.395336   \n",
       "2          XGBoost_HPT           0.411609          0.390457   \n",
       "3  Stacking_Classifier           0.377435          0.376779   \n",
       "\n",
       "   Precision_Training  Precision_Testing  Recall_Training  Recall_Testing  \\\n",
       "0            0.496545           0.440773         0.470416        0.419444   \n",
       "1            0.613426           0.448137         0.592145        0.452081   \n",
       "2            0.493820           0.461842         0.484561        0.459851   \n",
       "3            0.410109           0.415187         0.429475        0.431359   \n",
       "\n",
       "   F1Score_Training  F1Score_Testing  Multiclass_log_loss_Training  \\\n",
       "0          0.470910         0.420540                     10.843639   \n",
       "1          0.569516         0.425764                      0.780504   \n",
       "2          0.441292         0.415919                      0.339608   \n",
       "3          0.409908         0.406748                      2.591749   \n",
       "\n",
       "   Multiclass_log_loss_Testing  \n",
       "0                    11.463224  \n",
       "1                     1.353877  \n",
       "2                     0.369781  \n",
       "3                     1.908549  "
      ]
     },
     "execution_count": 93,
     "metadata": {},
     "output_type": "execute_result"
    }
   ],
   "source": [
    "df_evaluation_age_s1"
   ]
  },
  {
   "cell_type": "code",
   "execution_count": 94,
   "id": "465e435a",
   "metadata": {},
   "outputs": [],
   "source": [
    "path = 'E:\\Shobhit\\MSDS\\Capstone\\Y1_Capstone\\MLModels\\Age Prediction'\n",
    "df_evaluation_age_s1.to_csv(f'{path}\\\\evaluation_metrics_age_s1.csv',index=False)"
   ]
  }
 ],
 "metadata": {
  "kernelspec": {
   "display_name": "Python 3 (ipykernel)",
   "language": "python",
   "name": "python3"
  },
  "language_info": {
   "codemirror_mode": {
    "name": "ipython",
    "version": 3
   },
   "file_extension": ".py",
   "mimetype": "text/x-python",
   "name": "python",
   "nbconvert_exporter": "python",
   "pygments_lexer": "ipython3",
   "version": "3.9.7"
  }
 },
 "nbformat": 4,
 "nbformat_minor": 5
}
