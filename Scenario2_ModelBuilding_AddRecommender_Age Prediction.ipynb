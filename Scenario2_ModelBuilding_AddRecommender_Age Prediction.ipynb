{
 "cells": [
  {
   "cell_type": "code",
   "execution_count": 1,
   "id": "09d7a63b",
   "metadata": {},
   "outputs": [
    {
     "name": "stderr",
     "output_type": "stream",
     "text": [
      "E:\\Softwares\\Anaconda\\lib\\site-packages\\scipy\\__init__.py:146: UserWarning: A NumPy version >=1.16.5 and <1.23.0 is required for this version of SciPy (detected version 1.24.3\n",
      "  warnings.warn(f\"A NumPy version >={np_minversion} and <{np_maxversion}\"\n"
     ]
    }
   ],
   "source": [
    "import pandas as pd\n",
    "##Pre-processing\n",
    "from sklearn import preprocessing\n",
    "from sklearn.preprocessing import StandardScaler\n",
    "from sklearn.model_selection import train_test_split\n",
    "from sklearn.utils import class_weight\n",
    "\n",
    "#Model Evaluation\n",
    "from sklearn import metrics\n",
    "from sklearn.metrics import confusion_matrix,ConfusionMatrixDisplay, roc_auc_score,precision_score,recall_score,f1_score\n",
    "from sklearn.metrics import classification_report\n",
    "from sklearn.model_selection import GridSearchCV,RandomizedSearchCV\n",
    "from scipy.sparse import csr_matrix, hstack\n",
    "from scipy.stats import ks_2samp\n",
    "\n",
    "\n",
    "#Model Building\n",
    "from sklearn.linear_model import LogisticRegression\n",
    "from sklearn.model_selection import StratifiedKFold\n",
    "from sklearn.ensemble import RandomForestClassifier\n",
    "from mlxtend.classifier import StackingCVClassifier\n",
    "from sklearn import model_selection\n",
    "import xgboost as xgb\n",
    "\n",
    "#All Purpose\n",
    "import numpy as np\n",
    "import pickle\n",
    "import seaborn as sns\n",
    "import warnings\n",
    "import joblib\n",
    "import matplotlib.pyplot as plt\n",
    "\n",
    "%matplotlib inline\n",
    "warnings.filterwarnings(\"ignore\")"
   ]
  },
  {
   "cell_type": "markdown",
   "id": "f17712cf",
   "metadata": {},
   "source": [
    "### Reading Train_Test Split  Data"
   ]
  },
  {
   "cell_type": "markdown",
   "id": "cb3be258",
   "metadata": {},
   "source": [
    " - As part of gender prediction data was encoded and numerical columns were scaled to same range of values.\n",
    " - Data was also split into train and test which can be used here directly."
   ]
  },
  {
   "cell_type": "code",
   "execution_count": 2,
   "id": "eba60f23",
   "metadata": {},
   "outputs": [
    {
     "data": {
      "text/plain": [
       "(40988, 1473)"
      ]
     },
     "execution_count": 2,
     "metadata": {},
     "output_type": "execute_result"
    }
   ],
   "source": [
    "#Reading Saved Testing Data\n",
    "path = 'E:\\Shobhit\\MSDS\\Capstone\\Y1_Capstone\\MLModels\\Train_Test_Data\\Scenario 2'\n",
    "df_s2_data_train = pd.read_csv(f'{path}\\\\df_s2_data_train.csv')\n",
    "df_s2_data_train.shape"
   ]
  },
  {
   "cell_type": "code",
   "execution_count": 3,
   "id": "7aef6caf",
   "metadata": {},
   "outputs": [
    {
     "data": {
      "text/plain": [
       "(40988, 1472)"
      ]
     },
     "execution_count": 3,
     "metadata": {},
     "output_type": "execute_result"
    }
   ],
   "source": [
    "df_s2_data_train.drop('train_test_flag',axis=1,inplace=True)\n",
    "df_s2_data_train.shape"
   ]
  },
  {
   "cell_type": "markdown",
   "id": "ea3b05f1",
   "metadata": {},
   "source": [
    "### Why Classification Model Was Chosen for Age Prediction"
   ]
  },
  {
   "cell_type": "markdown",
   "id": "a7d05d4c",
   "metadata": {},
   "source": [
    "- Age prediction is subjective and depends on various factors such as genetics, lifestyle, health, etc. Therefore, it is hard to define a precise age for a person based on their appearance.\n",
    "- Age prediction is often used for applications that do not require exact age, but rather a rough estimate or a range. For example, age-based marketing, face verification, demographic analysis, etc.\n",
    "- Classification can reduce the error and variance of the prediction by grouping similar ages into bins or categories. For example, instead of predicting 23 or 24 years old, we can predict 20-25 years old as a class.\n"
   ]
  },
  {
   "cell_type": "code",
   "execution_count": 4,
   "id": "b330186f",
   "metadata": {},
   "outputs": [],
   "source": [
    "def create_age_bins(age):\n",
    "    if 0<= age <= 24:\n",
    "        return 0 #for 0-24\n",
    "    elif 25<= age <= 32:\n",
    "        return 1 #for 25-32\n",
    "    elif age > 32:\n",
    "        return 2 #for 32+\n",
    "        "
   ]
  },
  {
   "cell_type": "code",
   "execution_count": 5,
   "id": "2d0c2d62",
   "metadata": {},
   "outputs": [
    {
     "data": {
      "text/plain": [
       "(10251, 1473)"
      ]
     },
     "execution_count": 5,
     "metadata": {},
     "output_type": "execute_result"
    }
   ],
   "source": [
    "#Reading Saved Test Data\n",
    "path = 'E:\\Shobhit\\MSDS\\Capstone\\Y1_Capstone\\MLModels\\Train_Test_Data\\Scenario 2'\n",
    "df_s2_data_test = pd.read_csv(f'{path}\\\\df_s2_data_test.csv')\n",
    "df_s2_data_test.shape"
   ]
  },
  {
   "cell_type": "code",
   "execution_count": 6,
   "id": "a59ddc86",
   "metadata": {},
   "outputs": [
    {
     "data": {
      "text/plain": [
       "(10251, 1472)"
      ]
     },
     "execution_count": 6,
     "metadata": {},
     "output_type": "execute_result"
    }
   ],
   "source": [
    "df_s2_data_test.drop('train_test_flag',axis=1,inplace=True)\n",
    "df_s2_data_test.shape"
   ]
  },
  {
   "cell_type": "code",
   "execution_count": 7,
   "id": "65207d0d",
   "metadata": {},
   "outputs": [
    {
     "name": "stdout",
     "output_type": "stream",
     "text": [
      "(40988, 1469)\n",
      "(40988,)\n"
     ]
    }
   ],
   "source": [
    "#Separating target variables with features for training data\n",
    "#For Male we would be denoting by 1 and for female by 0\n",
    "X_train_s2 = df_s2_data_train.drop(columns= ['gender','age','device_id'],axis=1)\n",
    "Y_train_s2_age = df_s2_data_train['age'].apply(lambda x:create_age_bins(x))\n",
    "Y_train_s2_age\n",
    "print(X_train_s2.shape)\n",
    "print(Y_train_s2_age.shape)\n"
   ]
  },
  {
   "cell_type": "code",
   "execution_count": 8,
   "id": "4575099f",
   "metadata": {},
   "outputs": [
    {
     "name": "stdout",
     "output_type": "stream",
     "text": [
      "(10251, 1469)\n",
      "(10251,)\n"
     ]
    }
   ],
   "source": [
    "#Separating target variables with features for test data\n",
    "X_test_s2 = df_s2_data_test.drop(columns= ['gender','age','device_id'],axis=1)\n",
    "Y_test_s2_age = df_s2_data_test['age'].apply(lambda x:create_age_bins(x))\n",
    "print(X_test_s2.shape)\n",
    "print(Y_test_s2_age.shape)\n"
   ]
  },
  {
   "cell_type": "markdown",
   "id": "f6ae35bf",
   "metadata": {},
   "source": [
    "### Creating Helper Functions for Model Evaluation"
   ]
  },
  {
   "cell_type": "code",
   "execution_count": 9,
   "id": "dbca4dbf",
   "metadata": {},
   "outputs": [],
   "source": [
    "#Below dict will contain all the evaluation metrics for each model which would be later used for comparison\n",
    "model_evaluation_dict_age = {\n",
    "    'Model_Name':[],\n",
    "    'Training_Accuracy':[],\n",
    "    'Testing_Accuracy':[],\n",
    "    'Precision_Training':[],\n",
    "    'Precision_Testing':[],\n",
    "    'Recall_Training':[],\n",
    "    'Recall_Testing':[],\n",
    "    'F1Score_Training':[],\n",
    "    'F1Score_Testing':[],\n",
    "    'Multiclass_log_loss_Training':[],\n",
    "    'Multiclass_log_loss_Testing':[],\n",
    "}"
   ]
  },
  {
   "cell_type": "code",
   "execution_count": 10,
   "id": "4413f1b2",
   "metadata": {},
   "outputs": [],
   "source": [
    "def multiclass_log_loss(y_true, y_pred):\n",
    "    eps = 1e-15\n",
    "    y_pred = np.clip(y_pred, eps, 1 - eps)\n",
    "    N = len(y_true)\n",
    "    loss = -np.sum(y_true * np.log(y_pred)) / N\n",
    "    return loss"
   ]
  },
  {
   "cell_type": "code",
   "execution_count": 11,
   "id": "f00e5fca",
   "metadata": {},
   "outputs": [],
   "source": [
    "def evaluate_model(model, data, y_true, isTraining=True):\n",
    "    label = 'Training' if isTraining else 'Testing'\n",
    "    \n",
    "    print(f'Evaluating {label} performance')\n",
    "    \n",
    "    #Prediciting target variable on training data\n",
    "    y_pred = model.predict(data)\n",
    "    #Calculating Accuracy\n",
    "    accuracy = metrics.balanced_accuracy_score(y_true, y_pred)\n",
    "    print(f'Accuracy:{accuracy}')\n",
    "    \n",
    "    #Calculating Precision and Recall Score\n",
    "    precision = precision_score(y_true, y_pred, average=\"weighted\")\n",
    "    recall = recall_score(y_true, y_pred, average=\"weighted\")\n",
    "    print(f'Precision:{precision}')\n",
    "    print(f'Recall:{recall}')\n",
    "    \n",
    "    #Calculating F1-Score\n",
    "    f1 = f1_score(y_true, y_pred,average='weighted')\n",
    "    print(f'F1Score:{f1}')\n",
    "    \n",
    "    #Plotting Confusion Matrix\n",
    "    cm = confusion_matrix(y_true, y_pred, labels=[0,1,2])\n",
    "    disp = ConfusionMatrixDisplay(confusion_matrix=cm,display_labels=[0,1,2])\n",
    "    disp.plot()\n",
    "        \n",
    "    #Evaluating log loss\n",
    "    log_loss = multiclass_log_loss(y_true, y_pred) \n",
    "    \n",
    "    #Adding above generated evaluation metrics to the model_evaluation_dict_age\n",
    "    model_evaluation_dict_age[f'{label}_Accuracy'].append(accuracy)\n",
    "    model_evaluation_dict_age[f'Precision_{label}'].append(precision)\n",
    "    model_evaluation_dict_age[f'Recall_{label}'].append(recall)\n",
    "    model_evaluation_dict_age[f'F1Score_{label}'].append(f1)\n",
    "    model_evaluation_dict_age[f'Multiclass_log_loss_{label}'].append(log_loss)\n"
   ]
  },
  {
   "cell_type": "markdown",
   "id": "00b4dc9a",
   "metadata": {},
   "source": [
    "### Logistic Regression Model for Predicting `Age` for Scenario 2"
   ]
  },
  {
   "cell_type": "markdown",
   "id": "4effb789",
   "metadata": {},
   "source": [
    "- Logistic regression model will be used as a benchmark to compare the other Machine learning models."
   ]
  },
  {
   "cell_type": "code",
   "execution_count": 12,
   "id": "0538b765",
   "metadata": {},
   "outputs": [
    {
     "data": {
      "text/plain": [
       "1    16857\n",
       "2    13549\n",
       "0    10582\n",
       "Name: age, dtype: int64"
      ]
     },
     "execution_count": 12,
     "metadata": {},
     "output_type": "execute_result"
    }
   ],
   "source": [
    "Y_train_s2_age.value_counts()"
   ]
  },
  {
   "cell_type": "markdown",
   "id": "2de06444",
   "metadata": {},
   "source": [
    "- We have an unbalanced data set as values are not equally distributed among different age bins."
   ]
  },
  {
   "cell_type": "code",
   "execution_count": 13,
   "id": "cb8cf0fd",
   "metadata": {},
   "outputs": [
    {
     "name": "stdout",
     "output_type": "stream",
     "text": [
      "[1.29112329 0.81050404 1.0083893 ]\n",
      "{0: 1.291123291123291, 1: 0.8105040438195804, 2: 1.0083893030235933}\n"
     ]
    }
   ],
   "source": [
    "#As it is an unbalanced data set compute the appropiate class weight to be assigned to the model\n",
    "weights = class_weight.compute_class_weight(class_weight='balanced',classes=np.unique(Y_train_s2_age),y = Y_train_s2_age)\n",
    "print(weights)\n",
    "class_weights = dict(zip(np.unique(Y_train_s2_age), weights))\n",
    "print(class_weights)"
   ]
  },
  {
   "cell_type": "code",
   "execution_count": 21,
   "id": "93057e64",
   "metadata": {},
   "outputs": [
    {
     "data": {
      "text/html": [
       "<style>#sk-container-id-1 {color: black;background-color: white;}#sk-container-id-1 pre{padding: 0;}#sk-container-id-1 div.sk-toggleable {background-color: white;}#sk-container-id-1 label.sk-toggleable__label {cursor: pointer;display: block;width: 100%;margin-bottom: 0;padding: 0.3em;box-sizing: border-box;text-align: center;}#sk-container-id-1 label.sk-toggleable__label-arrow:before {content: \"▸\";float: left;margin-right: 0.25em;color: #696969;}#sk-container-id-1 label.sk-toggleable__label-arrow:hover:before {color: black;}#sk-container-id-1 div.sk-estimator:hover label.sk-toggleable__label-arrow:before {color: black;}#sk-container-id-1 div.sk-toggleable__content {max-height: 0;max-width: 0;overflow: hidden;text-align: left;background-color: #f0f8ff;}#sk-container-id-1 div.sk-toggleable__content pre {margin: 0.2em;color: black;border-radius: 0.25em;background-color: #f0f8ff;}#sk-container-id-1 input.sk-toggleable__control:checked~div.sk-toggleable__content {max-height: 200px;max-width: 100%;overflow: auto;}#sk-container-id-1 input.sk-toggleable__control:checked~label.sk-toggleable__label-arrow:before {content: \"▾\";}#sk-container-id-1 div.sk-estimator input.sk-toggleable__control:checked~label.sk-toggleable__label {background-color: #d4ebff;}#sk-container-id-1 div.sk-label input.sk-toggleable__control:checked~label.sk-toggleable__label {background-color: #d4ebff;}#sk-container-id-1 input.sk-hidden--visually {border: 0;clip: rect(1px 1px 1px 1px);clip: rect(1px, 1px, 1px, 1px);height: 1px;margin: -1px;overflow: hidden;padding: 0;position: absolute;width: 1px;}#sk-container-id-1 div.sk-estimator {font-family: monospace;background-color: #f0f8ff;border: 1px dotted black;border-radius: 0.25em;box-sizing: border-box;margin-bottom: 0.5em;}#sk-container-id-1 div.sk-estimator:hover {background-color: #d4ebff;}#sk-container-id-1 div.sk-parallel-item::after {content: \"\";width: 100%;border-bottom: 1px solid gray;flex-grow: 1;}#sk-container-id-1 div.sk-label:hover label.sk-toggleable__label {background-color: #d4ebff;}#sk-container-id-1 div.sk-serial::before {content: \"\";position: absolute;border-left: 1px solid gray;box-sizing: border-box;top: 0;bottom: 0;left: 50%;z-index: 0;}#sk-container-id-1 div.sk-serial {display: flex;flex-direction: column;align-items: center;background-color: white;padding-right: 0.2em;padding-left: 0.2em;position: relative;}#sk-container-id-1 div.sk-item {position: relative;z-index: 1;}#sk-container-id-1 div.sk-parallel {display: flex;align-items: stretch;justify-content: center;background-color: white;position: relative;}#sk-container-id-1 div.sk-item::before, #sk-container-id-1 div.sk-parallel-item::before {content: \"\";position: absolute;border-left: 1px solid gray;box-sizing: border-box;top: 0;bottom: 0;left: 50%;z-index: -1;}#sk-container-id-1 div.sk-parallel-item {display: flex;flex-direction: column;z-index: 1;position: relative;background-color: white;}#sk-container-id-1 div.sk-parallel-item:first-child::after {align-self: flex-end;width: 50%;}#sk-container-id-1 div.sk-parallel-item:last-child::after {align-self: flex-start;width: 50%;}#sk-container-id-1 div.sk-parallel-item:only-child::after {width: 0;}#sk-container-id-1 div.sk-dashed-wrapped {border: 1px dashed gray;margin: 0 0.4em 0.5em 0.4em;box-sizing: border-box;padding-bottom: 0.4em;background-color: white;}#sk-container-id-1 div.sk-label label {font-family: monospace;font-weight: bold;display: inline-block;line-height: 1.2em;}#sk-container-id-1 div.sk-label-container {text-align: center;}#sk-container-id-1 div.sk-container {/* jupyter's `normalize.less` sets `[hidden] { display: none; }` but bootstrap.min.css set `[hidden] { display: none !important; }` so we also need the `!important` here to be able to override the default hidden behavior on the sphinx rendered scikit-learn.org. See: https://github.com/scikit-learn/scikit-learn/issues/21755 */display: inline-block !important;position: relative;}#sk-container-id-1 div.sk-text-repr-fallback {display: none;}</style><div id=\"sk-container-id-1\" class=\"sk-top-container\"><div class=\"sk-text-repr-fallback\"><pre>LogisticRegression(class_weight={0: 1.291123291123291, 1: 0.8105040438195804,\n",
       "                                 2: 1.0083893030235933},\n",
       "                   max_iter=1500, random_state=100)</pre><b>In a Jupyter environment, please rerun this cell to show the HTML representation or trust the notebook. <br />On GitHub, the HTML representation is unable to render, please try loading this page with nbviewer.org.</b></div><div class=\"sk-container\" hidden><div class=\"sk-item\"><div class=\"sk-estimator sk-toggleable\"><input class=\"sk-toggleable__control sk-hidden--visually\" id=\"sk-estimator-id-1\" type=\"checkbox\" checked><label for=\"sk-estimator-id-1\" class=\"sk-toggleable__label sk-toggleable__label-arrow\">LogisticRegression</label><div class=\"sk-toggleable__content\"><pre>LogisticRegression(class_weight={0: 1.291123291123291, 1: 0.8105040438195804,\n",
       "                                 2: 1.0083893030235933},\n",
       "                   max_iter=1500, random_state=100)</pre></div></div></div></div></div>"
      ],
      "text/plain": [
       "LogisticRegression(class_weight={0: 1.291123291123291, 1: 0.8105040438195804,\n",
       "                                 2: 1.0083893030235933},\n",
       "                   max_iter=1500, random_state=100)"
      ]
     },
     "execution_count": 21,
     "metadata": {},
     "output_type": "execute_result"
    }
   ],
   "source": [
    "#Declaring the Logistic Regression Model and training the model on the train data\n",
    "lr_model = LogisticRegression(class_weight = class_weights, random_state=100, max_iter=1500)\n",
    "lr_model.fit(X_train_s2, Y_train_s2_age)"
   ]
  },
  {
   "cell_type": "code",
   "execution_count": 22,
   "id": "dac4dcaf",
   "metadata": {},
   "outputs": [
    {
     "data": {
      "text/plain": [
       "array([0, 1, 2], dtype=int64)"
      ]
     },
     "execution_count": 22,
     "metadata": {},
     "output_type": "execute_result"
    }
   ],
   "source": [
    "lr_model.classes_"
   ]
  },
  {
   "cell_type": "code",
   "execution_count": 23,
   "id": "a5186610",
   "metadata": {},
   "outputs": [],
   "source": [
    "# Saving the Logistic Regression Model as a pickle in a file\n",
    "path = 'E:\\Shobhit\\MSDS\\Capstone\\Y1_Capstone\\MLModels\\Age Prediction'\n",
    "filename = f'{path}\\\\Logistic_Regression_Age_Scenario2.pkl'\n",
    "pickle.dump(lr_model, open(filename, 'wb'))"
   ]
  },
  {
   "cell_type": "code",
   "execution_count": 14,
   "id": "b7503572",
   "metadata": {},
   "outputs": [
    {
     "name": "stdout",
     "output_type": "stream",
     "text": [
      "LogisticRegression(class_weight={0: 1.291123291123291, 1: 0.8105040438195804,\n",
      "                                 2: 1.0083893030235933},\n",
      "                   max_iter=1500, random_state=100)\n"
     ]
    }
   ],
   "source": [
    "# Reading saved Logistic regression model\n",
    "# path = 'E:\\Shobhit\\MSDS\\Capstone\\Y1_Capstone\\MLModels\\Age Prediction'\n",
    "# filename = f'{path}\\\\Logistic_Regression_Age_Scenario2.pkl'\n",
    "# lr_model = pickle.load(open(filename, 'rb'))\n",
    "# print(lr_model)"
   ]
  },
  {
   "cell_type": "markdown",
   "id": "a40ad7f1",
   "metadata": {},
   "source": [
    "#### Evaluating the Logistic Regression classifier on Training Data Set"
   ]
  },
  {
   "cell_type": "code",
   "execution_count": 15,
   "id": "37d3861e",
   "metadata": {},
   "outputs": [
    {
     "name": "stdout",
     "output_type": "stream",
     "text": [
      "Evaluating Training performance\n",
      "Accuracy:0.4445194766800588\n",
      "Precision:0.4475920675796427\n",
      "Recall:0.4256367717380697\n",
      "F1Score:0.41699957804105453\n"
     ]
    },
    {
     "data": {
      "image/png": "[encoded data removed]",
      "text/plain": [
       "<Figure size 640x480 with 2 Axes>"
      ]
     },
     "metadata": {},
     "output_type": "display_data"
    }
   ],
   "source": [
    "model_evaluation_dict_age['Model_Name'].append('Logistic_Regression')\n",
    "evaluate_model(lr_model, X_train_s2, Y_train_s2_age)"
   ]
  },
  {
   "cell_type": "markdown",
   "id": "4a038463",
   "metadata": {},
   "source": [
    "#### Evaluating the Logistic Regression classifier on Test Data Set"
   ]
  },
  {
   "cell_type": "code",
   "execution_count": 16,
   "id": "76bcfcfb",
   "metadata": {},
   "outputs": [
    {
     "name": "stdout",
     "output_type": "stream",
     "text": [
      "Evaluating Testing performance\n",
      "Accuracy:0.4101744160218425\n",
      "Precision:0.4070661873738583\n",
      "Recall:0.3924495171202809\n",
      "F1Score:0.3835362643606653\n"
     ]
    },
    {
     "data": {
      "image/png": "[encoded data removed]",
      "text/plain": [
       "<Figure size 640x480 with 2 Axes>"
      ]
     },
     "metadata": {},
     "output_type": "display_data"
    }
   ],
   "source": [
    "evaluate_model(lr_model, X_test_s2, Y_test_s2_age, False)"
   ]
  },
  {
   "cell_type": "markdown",
   "id": "fe3846f9",
   "metadata": {},
   "source": [
    "### XGBoost Model for Predicting `Age` for Scenario 2"
   ]
  },
  {
   "cell_type": "code",
   "execution_count": 28,
   "id": "945c72af",
   "metadata": {},
   "outputs": [
    {
     "data": {
      "text/html": [
       "<style>#sk-container-id-2 {color: black;background-color: white;}#sk-container-id-2 pre{padding: 0;}#sk-container-id-2 div.sk-toggleable {background-color: white;}#sk-container-id-2 label.sk-toggleable__label {cursor: pointer;display: block;width: 100%;margin-bottom: 0;padding: 0.3em;box-sizing: border-box;text-align: center;}#sk-container-id-2 label.sk-toggleable__label-arrow:before {content: \"▸\";float: left;margin-right: 0.25em;color: #696969;}#sk-container-id-2 label.sk-toggleable__label-arrow:hover:before {color: black;}#sk-container-id-2 div.sk-estimator:hover label.sk-toggleable__label-arrow:before {color: black;}#sk-container-id-2 div.sk-toggleable__content {max-height: 0;max-width: 0;overflow: hidden;text-align: left;background-color: #f0f8ff;}#sk-container-id-2 div.sk-toggleable__content pre {margin: 0.2em;color: black;border-radius: 0.25em;background-color: #f0f8ff;}#sk-container-id-2 input.sk-toggleable__control:checked~div.sk-toggleable__content {max-height: 200px;max-width: 100%;overflow: auto;}#sk-container-id-2 input.sk-toggleable__control:checked~label.sk-toggleable__label-arrow:before {content: \"▾\";}#sk-container-id-2 div.sk-estimator input.sk-toggleable__control:checked~label.sk-toggleable__label {background-color: #d4ebff;}#sk-container-id-2 div.sk-label input.sk-toggleable__control:checked~label.sk-toggleable__label {background-color: #d4ebff;}#sk-container-id-2 input.sk-hidden--visually {border: 0;clip: rect(1px 1px 1px 1px);clip: rect(1px, 1px, 1px, 1px);height: 1px;margin: -1px;overflow: hidden;padding: 0;position: absolute;width: 1px;}#sk-container-id-2 div.sk-estimator {font-family: monospace;background-color: #f0f8ff;border: 1px dotted black;border-radius: 0.25em;box-sizing: border-box;margin-bottom: 0.5em;}#sk-container-id-2 div.sk-estimator:hover {background-color: #d4ebff;}#sk-container-id-2 div.sk-parallel-item::after {content: \"\";width: 100%;border-bottom: 1px solid gray;flex-grow: 1;}#sk-container-id-2 div.sk-label:hover label.sk-toggleable__label {background-color: #d4ebff;}#sk-container-id-2 div.sk-serial::before {content: \"\";position: absolute;border-left: 1px solid gray;box-sizing: border-box;top: 0;bottom: 0;left: 50%;z-index: 0;}#sk-container-id-2 div.sk-serial {display: flex;flex-direction: column;align-items: center;background-color: white;padding-right: 0.2em;padding-left: 0.2em;position: relative;}#sk-container-id-2 div.sk-item {position: relative;z-index: 1;}#sk-container-id-2 div.sk-parallel {display: flex;align-items: stretch;justify-content: center;background-color: white;position: relative;}#sk-container-id-2 div.sk-item::before, #sk-container-id-2 div.sk-parallel-item::before {content: \"\";position: absolute;border-left: 1px solid gray;box-sizing: border-box;top: 0;bottom: 0;left: 50%;z-index: -1;}#sk-container-id-2 div.sk-parallel-item {display: flex;flex-direction: column;z-index: 1;position: relative;background-color: white;}#sk-container-id-2 div.sk-parallel-item:first-child::after {align-self: flex-end;width: 50%;}#sk-container-id-2 div.sk-parallel-item:last-child::after {align-self: flex-start;width: 50%;}#sk-container-id-2 div.sk-parallel-item:only-child::after {width: 0;}#sk-container-id-2 div.sk-dashed-wrapped {border: 1px dashed gray;margin: 0 0.4em 0.5em 0.4em;box-sizing: border-box;padding-bottom: 0.4em;background-color: white;}#sk-container-id-2 div.sk-label label {font-family: monospace;font-weight: bold;display: inline-block;line-height: 1.2em;}#sk-container-id-2 div.sk-label-container {text-align: center;}#sk-container-id-2 div.sk-container {/* jupyter's `normalize.less` sets `[hidden] { display: none; }` but bootstrap.min.css set `[hidden] { display: none !important; }` so we also need the `!important` here to be able to override the default hidden behavior on the sphinx rendered scikit-learn.org. See: https://github.com/scikit-learn/scikit-learn/issues/21755 */display: inline-block !important;position: relative;}#sk-container-id-2 div.sk-text-repr-fallback {display: none;}</style><div id=\"sk-container-id-2\" class=\"sk-top-container\"><div class=\"sk-text-repr-fallback\"><pre>XGBClassifier(base_score=None, booster=None, callbacks=None,\n",
       "              colsample_bylevel=None, colsample_bynode=None,\n",
       "              colsample_bytree=None, early_stopping_rounds=None,\n",
       "              enable_categorical=False, eval_metric=None, feature_types=None,\n",
       "              gamma=None, gpu_id=None, grow_policy=None, importance_type=None,\n",
       "              interaction_constraints=None, learning_rate=None, max_bin=None,\n",
       "              max_cat_threshold=None, max_cat_to_onehot=None,\n",
       "              max_delta_step=None, max_depth=None, max_leaves=None,\n",
       "              min_child_weight=None, missing=nan, monotone_constraints=None,\n",
       "              n_estimators=100, n_jobs=-1, num_parallel_tree=None,\n",
       "              objective=&#x27;multi:softprob&#x27;, predictor=None, ...)</pre><b>In a Jupyter environment, please rerun this cell to show the HTML representation or trust the notebook. <br />On GitHub, the HTML representation is unable to render, please try loading this page with nbviewer.org.</b></div><div class=\"sk-container\" hidden><div class=\"sk-item\"><div class=\"sk-estimator sk-toggleable\"><input class=\"sk-toggleable__control sk-hidden--visually\" id=\"sk-estimator-id-2\" type=\"checkbox\" checked><label for=\"sk-estimator-id-2\" class=\"sk-toggleable__label sk-toggleable__label-arrow\">XGBClassifier</label><div class=\"sk-toggleable__content\"><pre>XGBClassifier(base_score=None, booster=None, callbacks=None,\n",
       "              colsample_bylevel=None, colsample_bynode=None,\n",
       "              colsample_bytree=None, early_stopping_rounds=None,\n",
       "              enable_categorical=False, eval_metric=None, feature_types=None,\n",
       "              gamma=None, gpu_id=None, grow_policy=None, importance_type=None,\n",
       "              interaction_constraints=None, learning_rate=None, max_bin=None,\n",
       "              max_cat_threshold=None, max_cat_to_onehot=None,\n",
       "              max_delta_step=None, max_depth=None, max_leaves=None,\n",
       "              min_child_weight=None, missing=nan, monotone_constraints=None,\n",
       "              n_estimators=100, n_jobs=-1, num_parallel_tree=None,\n",
       "              objective=&#x27;multi:softprob&#x27;, predictor=None, ...)</pre></div></div></div></div></div>"
      ],
      "text/plain": [
       "XGBClassifier(base_score=None, booster=None, callbacks=None,\n",
       "              colsample_bylevel=None, colsample_bynode=None,\n",
       "              colsample_bytree=None, early_stopping_rounds=None,\n",
       "              enable_categorical=False, eval_metric=None, feature_types=None,\n",
       "              gamma=None, gpu_id=None, grow_policy=None, importance_type=None,\n",
       "              interaction_constraints=None, learning_rate=None, max_bin=None,\n",
       "              max_cat_threshold=None, max_cat_to_onehot=None,\n",
       "              max_delta_step=None, max_depth=None, max_leaves=None,\n",
       "              min_child_weight=None, missing=nan, monotone_constraints=None,\n",
       "              n_estimators=100, n_jobs=-1, num_parallel_tree=None,\n",
       "              objective='multi:softprob', predictor=None, ...)"
      ]
     },
     "execution_count": 28,
     "metadata": {},
     "output_type": "execute_result"
    }
   ],
   "source": [
    "#Training XGBoost Model on train data\n",
    "xgclf = xgb.XGBClassifier(random_state=100,n_jobs=-1)\n",
    "xgclf.fit(X_train_s2, Y_train_s2_age)"
   ]
  },
  {
   "cell_type": "code",
   "execution_count": 30,
   "id": "729af64c",
   "metadata": {},
   "outputs": [
    {
     "name": "stdout",
     "output_type": "stream",
     "text": [
      "XGBClassifier(base_score=None, booster=None, callbacks=None,\n",
      "              colsample_bylevel=None, colsample_bynode=None,\n",
      "              colsample_bytree=None, early_stopping_rounds=None,\n",
      "              enable_categorical=False, eval_metric=None, feature_types=None,\n",
      "              gamma=None, gpu_id=None, grow_policy=None, importance_type=None,\n",
      "              interaction_constraints=None, learning_rate=None, max_bin=None,\n",
      "              max_cat_threshold=None, max_cat_to_onehot=None,\n",
      "              max_delta_step=None, max_depth=None, max_leaves=None,\n",
      "              min_child_weight=None, missing=nan, monotone_constraints=None,\n",
      "              n_estimators=100, n_jobs=-1, num_parallel_tree=None,\n",
      "              objective='multi:softprob', predictor=None, ...)\n"
     ]
    }
   ],
   "source": [
    "# Saving the XGBoost Model as a pickle in a file\n",
    "path = 'E:\\Shobhit\\MSDS\\Capstone\\Y1_Capstone\\MLModels\\Age Prediction'\n",
    "filename = f'{path}\\\\XGBoost_Age_Scenario2.pkl'\n",
    "pickle.dump(xgclf, open(filename, 'wb'))\n",
    "print(xgclf)"
   ]
  },
  {
   "cell_type": "code",
   "execution_count": 17,
   "id": "1007cddd",
   "metadata": {},
   "outputs": [
    {
     "name": "stdout",
     "output_type": "stream",
     "text": [
      "XGBClassifier(base_score=None, booster=None, callbacks=None,\n",
      "              colsample_bylevel=None, colsample_bynode=None,\n",
      "              colsample_bytree=None, early_stopping_rounds=None,\n",
      "              enable_categorical=False, eval_metric=None, feature_types=None,\n",
      "              gamma=None, gpu_id=None, grow_policy=None, importance_type=None,\n",
      "              interaction_constraints=None, learning_rate=None, max_bin=None,\n",
      "              max_cat_threshold=None, max_cat_to_onehot=None,\n",
      "              max_delta_step=None, max_depth=None, max_leaves=None,\n",
      "              min_child_weight=None, missing=nan, monotone_constraints=None,\n",
      "              n_estimators=100, n_jobs=-1, num_parallel_tree=None,\n",
      "              objective='multi:softprob', predictor=None, ...)\n"
     ]
    }
   ],
   "source": [
    "# Reading saved XGBoost model\n",
    "path = 'E:\\Shobhit\\MSDS\\Capstone\\Y1_Capstone\\MLModels\\Age Prediction'\n",
    "filename = f'{path}\\\\XGBoost_Age_Scenario2.pkl'\n",
    "xgclf = pickle.load(open(filename, 'rb'))\n",
    "print(xgclf)"
   ]
  },
  {
   "cell_type": "markdown",
   "id": "d8c0b364",
   "metadata": {},
   "source": [
    "#### Evaluating the XGBoost classifier on Training Data Set"
   ]
  },
  {
   "cell_type": "code",
   "execution_count": 18,
   "id": "04999fb5",
   "metadata": {},
   "outputs": [
    {
     "name": "stdout",
     "output_type": "stream",
     "text": [
      "Evaluating Training performance\n",
      "Accuracy:0.3764726195356558\n",
      "Precision:0.48184853688668106\n",
      "Recall:0.4427393383429296\n",
      "F1Score:0.349627483412001\n"
     ]
    },
    {
     "data": {
      "image/png": "[encoded data removed]",
      "text/plain": [
       "<Figure size 640x480 with 2 Axes>"
      ]
     },
     "metadata": {},
     "output_type": "display_data"
    }
   ],
   "source": [
    "model_evaluation_dict_age['Model_Name'].append('XGBoost_Basic')\n",
    "evaluate_model(xgclf, X_train_s2, Y_train_s2_age)"
   ]
  },
  {
   "cell_type": "markdown",
   "id": "db1aa58c",
   "metadata": {},
   "source": [
    "#### Evaluating the XGBoost classifier on Test Data Set"
   ]
  },
  {
   "cell_type": "code",
   "execution_count": 19,
   "id": "fea96bbb",
   "metadata": {},
   "outputs": [
    {
     "name": "stdout",
     "output_type": "stream",
     "text": [
      "Evaluating Testing performance\n",
      "Accuracy:0.3516997140246601\n",
      "Precision:0.40608877006287336\n",
      "Recall:0.41625207296849087\n",
      "F1Score:0.31543322877659735\n"
     ]
    },
    {
     "data": {
      "image/png": "[encoded data removed]",
      "text/plain": [
       "<Figure size 640x480 with 2 Axes>"
      ]
     },
     "metadata": {},
     "output_type": "display_data"
    }
   ],
   "source": [
    "evaluate_model(xgclf, X_test_s2, Y_test_s2_age, False)"
   ]
  },
  {
   "cell_type": "markdown",
   "id": "cb38d72a",
   "metadata": {},
   "source": [
    "### HyperParemter Tuning XGBoost Model for Predicting `Age` for Scenario 2"
   ]
  },
  {
   "cell_type": "code",
   "execution_count": 22,
   "id": "2f25122e",
   "metadata": {},
   "outputs": [],
   "source": [
    "#StratifiedKFold is used as we want the folds to be created to have the same proportion of class lables as in the data.\n",
    "cross_validation = StratifiedKFold(n_splits=2,shuffle=True,random_state=42)"
   ]
  },
  {
   "cell_type": "code",
   "execution_count": 30,
   "id": "54992a51",
   "metadata": {},
   "outputs": [],
   "source": [
    "#Creating parameter grid\n",
    "param_grid = {\n",
    "\n",
    "    'min_child_weight': [1, 5],\n",
    "\n",
    "    'gamma': [0.5, 1, 1.5, 2, 5],\n",
    "\n",
    "    'colsample_by_tree': [0.6, 0.8, 1.0],\n",
    "\n",
    "    'max_depth': [3, 4],\n",
    "\n",
    "    'n_estimators': range(60, 180, 30),\n",
    "\n",
    "    'learning_rate': [0.1, 0.01, 0.05],\n",
    "\n",
    " }"
   ]
  },
  {
   "cell_type": "code",
   "execution_count": 31,
   "id": "c4fbddfe",
   "metadata": {},
   "outputs": [
    {
     "name": "stdout",
     "output_type": "stream",
     "text": [
      "Fitting 2 folds for each of 10 candidates, totalling 20 fits\n",
      "[19:29:52] WARNING: C:\\buildkite-agent\\builds\\buildkite-windows-cpu-autoscaling-group-i-07593ffd91cd9da33-1\\xgboost\\xgboost-ci-windows\\src\\learner.cc:767: \n",
      "Parameters: { \"colsample_by_tree\" } are not used.\n",
      "\n"
     ]
    },
    {
     "data": {
      "text/html": [
       "<style>#sk-container-id-1 {color: black;background-color: white;}#sk-container-id-1 pre{padding: 0;}#sk-container-id-1 div.sk-toggleable {background-color: white;}#sk-container-id-1 label.sk-toggleable__label {cursor: pointer;display: block;width: 100%;margin-bottom: 0;padding: 0.3em;box-sizing: border-box;text-align: center;}#sk-container-id-1 label.sk-toggleable__label-arrow:before {content: \"▸\";float: left;margin-right: 0.25em;color: #696969;}#sk-container-id-1 label.sk-toggleable__label-arrow:hover:before {color: black;}#sk-container-id-1 div.sk-estimator:hover label.sk-toggleable__label-arrow:before {color: black;}#sk-container-id-1 div.sk-toggleable__content {max-height: 0;max-width: 0;overflow: hidden;text-align: left;background-color: #f0f8ff;}#sk-container-id-1 div.sk-toggleable__content pre {margin: 0.2em;color: black;border-radius: 0.25em;background-color: #f0f8ff;}#sk-container-id-1 input.sk-toggleable__control:checked~div.sk-toggleable__content {max-height: 200px;max-width: 100%;overflow: auto;}#sk-container-id-1 input.sk-toggleable__control:checked~label.sk-toggleable__label-arrow:before {content: \"▾\";}#sk-container-id-1 div.sk-estimator input.sk-toggleable__control:checked~label.sk-toggleable__label {background-color: #d4ebff;}#sk-container-id-1 div.sk-label input.sk-toggleable__control:checked~label.sk-toggleable__label {background-color: #d4ebff;}#sk-container-id-1 input.sk-hidden--visually {border: 0;clip: rect(1px 1px 1px 1px);clip: rect(1px, 1px, 1px, 1px);height: 1px;margin: -1px;overflow: hidden;padding: 0;position: absolute;width: 1px;}#sk-container-id-1 div.sk-estimator {font-family: monospace;background-color: #f0f8ff;border: 1px dotted black;border-radius: 0.25em;box-sizing: border-box;margin-bottom: 0.5em;}#sk-container-id-1 div.sk-estimator:hover {background-color: #d4ebff;}#sk-container-id-1 div.sk-parallel-item::after {content: \"\";width: 100%;border-bottom: 1px solid gray;flex-grow: 1;}#sk-container-id-1 div.sk-label:hover label.sk-toggleable__label {background-color: #d4ebff;}#sk-container-id-1 div.sk-serial::before {content: \"\";position: absolute;border-left: 1px solid gray;box-sizing: border-box;top: 0;bottom: 0;left: 50%;z-index: 0;}#sk-container-id-1 div.sk-serial {display: flex;flex-direction: column;align-items: center;background-color: white;padding-right: 0.2em;padding-left: 0.2em;position: relative;}#sk-container-id-1 div.sk-item {position: relative;z-index: 1;}#sk-container-id-1 div.sk-parallel {display: flex;align-items: stretch;justify-content: center;background-color: white;position: relative;}#sk-container-id-1 div.sk-item::before, #sk-container-id-1 div.sk-parallel-item::before {content: \"\";position: absolute;border-left: 1px solid gray;box-sizing: border-box;top: 0;bottom: 0;left: 50%;z-index: -1;}#sk-container-id-1 div.sk-parallel-item {display: flex;flex-direction: column;z-index: 1;position: relative;background-color: white;}#sk-container-id-1 div.sk-parallel-item:first-child::after {align-self: flex-end;width: 50%;}#sk-container-id-1 div.sk-parallel-item:last-child::after {align-self: flex-start;width: 50%;}#sk-container-id-1 div.sk-parallel-item:only-child::after {width: 0;}#sk-container-id-1 div.sk-dashed-wrapped {border: 1px dashed gray;margin: 0 0.4em 0.5em 0.4em;box-sizing: border-box;padding-bottom: 0.4em;background-color: white;}#sk-container-id-1 div.sk-label label {font-family: monospace;font-weight: bold;display: inline-block;line-height: 1.2em;}#sk-container-id-1 div.sk-label-container {text-align: center;}#sk-container-id-1 div.sk-container {/* jupyter's `normalize.less` sets `[hidden] { display: none; }` but bootstrap.min.css set `[hidden] { display: none !important; }` so we also need the `!important` here to be able to override the default hidden behavior on the sphinx rendered scikit-learn.org. See: https://github.com/scikit-learn/scikit-learn/issues/21755 */display: inline-block !important;position: relative;}#sk-container-id-1 div.sk-text-repr-fallback {display: none;}</style><div id=\"sk-container-id-1\" class=\"sk-top-container\"><div class=\"sk-text-repr-fallback\"><pre>RandomizedSearchCV(cv=StratifiedKFold(n_splits=2, random_state=42, shuffle=True),\n",
       "                   error_score=&#x27;raise&#x27;,\n",
       "                   estimator=XGBClassifier(base_score=None, booster=None,\n",
       "                                           callbacks=None,\n",
       "                                           colsample_bylevel=None,\n",
       "                                           colsample_bynode=None,\n",
       "                                           colsample_bytree=None,\n",
       "                                           early_stopping_rounds=None,\n",
       "                                           enable_categorical=False,\n",
       "                                           eval_metric=None, feature_types=None,\n",
       "                                           gamma=None, gpu_id=None,\n",
       "                                           grow_...\n",
       "                                           min_child_weight=None, missing=nan,\n",
       "                                           monotone_constraints=None,\n",
       "                                           n_estimators=100, n_jobs=None,\n",
       "                                           num_parallel_tree=None,\n",
       "                                           predictor=None, random_state=None, ...),\n",
       "                   n_jobs=-1,\n",
       "                   param_distributions={&#x27;colsample_by_tree&#x27;: [0.6, 0.8, 1.0],\n",
       "                                        &#x27;gamma&#x27;: [0.5, 1, 1.5, 2, 5],\n",
       "                                        &#x27;learning_rate&#x27;: [0.1, 0.01, 0.05],\n",
       "                                        &#x27;max_depth&#x27;: [3, 4],\n",
       "                                        &#x27;min_child_weight&#x27;: [1, 5],\n",
       "                                        &#x27;n_estimators&#x27;: range(60, 180, 30)},\n",
       "                   random_state=100, verbose=4)</pre><b>In a Jupyter environment, please rerun this cell to show the HTML representation or trust the notebook. <br />On GitHub, the HTML representation is unable to render, please try loading this page with nbviewer.org.</b></div><div class=\"sk-container\" hidden><div class=\"sk-item sk-dashed-wrapped\"><div class=\"sk-label-container\"><div class=\"sk-label sk-toggleable\"><input class=\"sk-toggleable__control sk-hidden--visually\" id=\"sk-estimator-id-1\" type=\"checkbox\" ><label for=\"sk-estimator-id-1\" class=\"sk-toggleable__label sk-toggleable__label-arrow\">RandomizedSearchCV</label><div class=\"sk-toggleable__content\"><pre>RandomizedSearchCV(cv=StratifiedKFold(n_splits=2, random_state=42, shuffle=True),\n",
       "                   error_score=&#x27;raise&#x27;,\n",
       "                   estimator=XGBClassifier(base_score=None, booster=None,\n",
       "                                           callbacks=None,\n",
       "                                           colsample_bylevel=None,\n",
       "                                           colsample_bynode=None,\n",
       "                                           colsample_bytree=None,\n",
       "                                           early_stopping_rounds=None,\n",
       "                                           enable_categorical=False,\n",
       "                                           eval_metric=None, feature_types=None,\n",
       "                                           gamma=None, gpu_id=None,\n",
       "                                           grow_...\n",
       "                                           min_child_weight=None, missing=nan,\n",
       "                                           monotone_constraints=None,\n",
       "                                           n_estimators=100, n_jobs=None,\n",
       "                                           num_parallel_tree=None,\n",
       "                                           predictor=None, random_state=None, ...),\n",
       "                   n_jobs=-1,\n",
       "                   param_distributions={&#x27;colsample_by_tree&#x27;: [0.6, 0.8, 1.0],\n",
       "                                        &#x27;gamma&#x27;: [0.5, 1, 1.5, 2, 5],\n",
       "                                        &#x27;learning_rate&#x27;: [0.1, 0.01, 0.05],\n",
       "                                        &#x27;max_depth&#x27;: [3, 4],\n",
       "                                        &#x27;min_child_weight&#x27;: [1, 5],\n",
       "                                        &#x27;n_estimators&#x27;: range(60, 180, 30)},\n",
       "                   random_state=100, verbose=4)</pre></div></div></div><div class=\"sk-parallel\"><div class=\"sk-parallel-item\"><div class=\"sk-item\"><div class=\"sk-label-container\"><div class=\"sk-label sk-toggleable\"><input class=\"sk-toggleable__control sk-hidden--visually\" id=\"sk-estimator-id-2\" type=\"checkbox\" ><label for=\"sk-estimator-id-2\" class=\"sk-toggleable__label sk-toggleable__label-arrow\">estimator: XGBClassifier</label><div class=\"sk-toggleable__content\"><pre>XGBClassifier(base_score=None, booster=None, callbacks=None,\n",
       "              colsample_bylevel=None, colsample_bynode=None,\n",
       "              colsample_bytree=None, early_stopping_rounds=None,\n",
       "              enable_categorical=False, eval_metric=None, feature_types=None,\n",
       "              gamma=None, gpu_id=None, grow_policy=None, importance_type=None,\n",
       "              interaction_constraints=None, learning_rate=None, max_bin=None,\n",
       "              max_cat_threshold=None, max_cat_to_onehot=None,\n",
       "              max_delta_step=None, max_depth=None, max_leaves=None,\n",
       "              min_child_weight=None, missing=nan, monotone_constraints=None,\n",
       "              n_estimators=100, n_jobs=None, num_parallel_tree=None,\n",
       "              predictor=None, random_state=None, ...)</pre></div></div></div><div class=\"sk-serial\"><div class=\"sk-item\"><div class=\"sk-estimator sk-toggleable\"><input class=\"sk-toggleable__control sk-hidden--visually\" id=\"sk-estimator-id-3\" type=\"checkbox\" ><label for=\"sk-estimator-id-3\" class=\"sk-toggleable__label sk-toggleable__label-arrow\">XGBClassifier</label><div class=\"sk-toggleable__content\"><pre>XGBClassifier(base_score=None, booster=None, callbacks=None,\n",
       "              colsample_bylevel=None, colsample_bynode=None,\n",
       "              colsample_bytree=None, early_stopping_rounds=None,\n",
       "              enable_categorical=False, eval_metric=None, feature_types=None,\n",
       "              gamma=None, gpu_id=None, grow_policy=None, importance_type=None,\n",
       "              interaction_constraints=None, learning_rate=None, max_bin=None,\n",
       "              max_cat_threshold=None, max_cat_to_onehot=None,\n",
       "              max_delta_step=None, max_depth=None, max_leaves=None,\n",
       "              min_child_weight=None, missing=nan, monotone_constraints=None,\n",
       "              n_estimators=100, n_jobs=None, num_parallel_tree=None,\n",
       "              predictor=None, random_state=None, ...)</pre></div></div></div></div></div></div></div></div></div></div>"
      ],
      "text/plain": [
       "RandomizedSearchCV(cv=StratifiedKFold(n_splits=2, random_state=42, shuffle=True),\n",
       "                   error_score='raise',\n",
       "                   estimator=XGBClassifier(base_score=None, booster=None,\n",
       "                                           callbacks=None,\n",
       "                                           colsample_bylevel=None,\n",
       "                                           colsample_bynode=None,\n",
       "                                           colsample_bytree=None,\n",
       "                                           early_stopping_rounds=None,\n",
       "                                           enable_categorical=False,\n",
       "                                           eval_metric=None, feature_types=None,\n",
       "                                           gamma=None, gpu_id=None,\n",
       "                                           grow_...\n",
       "                                           min_child_weight=None, missing=nan,\n",
       "                                           monotone_constraints=None,\n",
       "                                           n_estimators=100, n_jobs=None,\n",
       "                                           num_parallel_tree=None,\n",
       "                                           predictor=None, random_state=None, ...),\n",
       "                   n_jobs=-1,\n",
       "                   param_distributions={'colsample_by_tree': [0.6, 0.8, 1.0],\n",
       "                                        'gamma': [0.5, 1, 1.5, 2, 5],\n",
       "                                        'learning_rate': [0.1, 0.01, 0.05],\n",
       "                                        'max_depth': [3, 4],\n",
       "                                        'min_child_weight': [1, 5],\n",
       "                                        'n_estimators': range(60, 180, 30)},\n",
       "                   random_state=100, verbose=4)"
      ]
     },
     "execution_count": 31,
     "metadata": {},
     "output_type": "execute_result"
    }
   ],
   "source": [
    "#Training XGBoost Model\n",
    "xgb_model = xgb.XGBClassifier()\n",
    "clf_xgb_grid = RandomizedSearchCV(xgb_model,\n",
    "                              param_grid,\n",
    "                               cv=cross_validation,\n",
    "                               verbose=4,\n",
    "                               n_jobs=-1,\n",
    "                               random_state = 100,\n",
    "                               error_score=\"raise\")\n",
    "clf_xgb_grid.fit(X_train_s2, Y_train_s2_age)"
   ]
  },
  {
   "cell_type": "code",
   "execution_count": 32,
   "id": "8057d9d1",
   "metadata": {},
   "outputs": [
    {
     "name": "stdout",
     "output_type": "stream",
     "text": [
      "{'n_estimators': 150, 'min_child_weight': 5, 'max_depth': 3, 'learning_rate': 0.1, 'gamma': 0.5, 'colsample_by_tree': 1.0}\n",
      "0.414999512052308\n",
      "XGBClassifier(base_score=None, booster=None, callbacks=None,\n",
      "              colsample_by_tree=1.0, colsample_bylevel=None,\n",
      "              colsample_bynode=None, colsample_bytree=None,\n",
      "              early_stopping_rounds=None, enable_categorical=False,\n",
      "              eval_metric=None, feature_types=None, gamma=0.5, gpu_id=None,\n",
      "              grow_policy=None, importance_type=None,\n",
      "              interaction_constraints=None, learning_rate=0.1, max_bin=None,\n",
      "              max_cat_threshold=None, max_cat_to_onehot=None,\n",
      "              max_delta_step=None, max_depth=3, max_leaves=None,\n",
      "              min_child_weight=5, missing=nan, monotone_constraints=None,\n",
      "              n_estimators=150, n_jobs=None, num_parallel_tree=None,\n",
      "              objective='multi:softprob', ...)\n"
     ]
    }
   ],
   "source": [
    "print(clf_xgb_grid.best_params_)\n",
    "print(clf_xgb_grid.best_score_)\n",
    "print(clf_xgb_grid.best_estimator_)\n",
    "best_clf_xgb_grid = clf_xgb_grid.best_estimator_\n",
    "xgb_hpt = best_clf_xgb_grid"
   ]
  },
  {
   "cell_type": "code",
   "execution_count": 33,
   "id": "9bfd3e8f",
   "metadata": {},
   "outputs": [],
   "source": [
    "#Saving the model\n",
    "#Uncomment below if running for first time and saved model is not present.\n",
    "path = 'E:\\Shobhit\\MSDS\\Capstone\\Y1_Capstone\\MLModels\\Age Prediction'\n",
    "filename = f'{path}\\\\XGBoostHPT_Age_Scenario2.pkl'\n",
    "pickle.dump(best_clf_xgb_grid, open(filename, 'wb'))"
   ]
  },
  {
   "cell_type": "code",
   "execution_count": 34,
   "id": "df21a4e2",
   "metadata": {},
   "outputs": [],
   "source": [
    "#Reading saved model for XGBoost with Grid Search\n",
    "# path = 'E:\\Shobhit\\MSDS\\Capstone\\Y1_Capstone\\MLModels\\Age Prediction'\n",
    "# filename = f'{path}\\\\XGBoostHPT_Age_Scenario2.pkl'\n",
    "# xgb_hpt = pickle.load(open(filename, 'rb'))\n",
    "# print(xgb_hpt)"
   ]
  },
  {
   "cell_type": "markdown",
   "id": "f4b3f605",
   "metadata": {},
   "source": [
    "#### Evaluating the XGBoost with HyperParameter Tuning classifier on Training Data Set"
   ]
  },
  {
   "cell_type": "code",
   "execution_count": 35,
   "id": "52219e68",
   "metadata": {},
   "outputs": [
    {
     "name": "stdout",
     "output_type": "stream",
     "text": [
      "Evaluating Training performance\n",
      "Accuracy:0.34017880999072486\n",
      "Precision:0.3914113331678382\n",
      "Recall:0.4118622573407472\n",
      "F1Score:0.2739710946719543\n"
     ]
    },
    {
     "data": {
      "image/png": "[encoded data removed]",
      "text/plain": [
       "<Figure size 640x480 with 2 Axes>"
      ]
     },
     "metadata": {},
     "output_type": "display_data"
    }
   ],
   "source": [
    "model_evaluation_dict_age['Model_Name'].append('XGBoost_HPT')\n",
    "evaluate_model(xgb_hpt, X_test_s2, Y_test_s2_age)"
   ]
  },
  {
   "cell_type": "markdown",
   "id": "df5639b5",
   "metadata": {},
   "source": [
    "#### Evaluating the XGBoost with Hyper Parameter Tuning on Test Data Set"
   ]
  },
  {
   "cell_type": "code",
   "execution_count": 36,
   "id": "2aa8e57c",
   "metadata": {},
   "outputs": [
    {
     "name": "stdout",
     "output_type": "stream",
     "text": [
      "Evaluating Testing performance\n",
      "Accuracy:0.34017880999072486\n",
      "Precision:0.3914113331678382\n",
      "Recall:0.4118622573407472\n",
      "F1Score:0.2739710946719543\n"
     ]
    },
    {
     "data": {
      "image/png": "[encoded data removed]",
      "text/plain": [
       "<Figure size 640x480 with 2 Axes>"
      ]
     },
     "metadata": {},
     "output_type": "display_data"
    }
   ],
   "source": [
    "evaluate_model(xgb_hpt, X_test_s2, Y_test_s2_age, False)"
   ]
  },
  {
   "cell_type": "markdown",
   "id": "78dd7727",
   "metadata": {},
   "source": [
    "### Stacking Classifier Model for Predicting `Age` for Scenario 2"
   ]
  },
  {
   "cell_type": "code",
   "execution_count": 23,
   "id": "ac62fb58",
   "metadata": {},
   "outputs": [],
   "source": [
    "# 1st set of models\n",
    "clf1 = LogisticRegression(class_weight = class_weights, random_state=100)\n",
    "clf2 = RandomForestClassifier(class_weight = class_weights,random_state=100,n_jobs=-1)\n",
    "xgb_m = xgb.XGBClassifier()\n",
    "\n",
    "stacking_classifier = StackingCVClassifier(classifiers=[clf1, clf2], meta_classifier=xgb_m, use_probas=True, cv=cross_validation, random_state=100)"
   ]
  },
  {
   "cell_type": "code",
   "execution_count": 24,
   "id": "de8263ff",
   "metadata": {},
   "outputs": [
    {
     "name": "stdout",
     "output_type": "stream",
     "text": [
      "Accuracy: 0.38 (+/- 0.00) [lr]\n",
      "Accuracy: 0.38 (+/- 0.00) [Random Forest]\n",
      "Accuracy: 0.40 (+/- 0.00) [StackingClassifier]\n"
     ]
    }
   ],
   "source": [
    "#Training Stacking Classifier Model on train data\n",
    "# Performing Cross Validation on Stacking Classifier\n",
    "\n",
    "for clf, label in zip([clf1, clf2, stacking_classifier], \n",
    "                      ['lr', \n",
    "                       'Random Forest', \n",
    "                       'StackingClassifier']):\n",
    "\n",
    "    scores = model_selection.cross_val_score(clf, X_train_s2, Y_train_s2_age, cv=cross_validation, scoring='accuracy')\n",
    "    print(\"Accuracy: %0.2f (+/- %0.2f) [%s]\" % (scores.mean(), scores.std(), label))"
   ]
  },
  {
   "cell_type": "code",
   "execution_count": 25,
   "id": "6c81ada1",
   "metadata": {},
   "outputs": [],
   "source": [
    "#Fitting the Stacking Classifier on Training Data\n",
    "sclf_fit = stacking_classifier.fit(X_train_s2, Y_train_s2_age)"
   ]
  },
  {
   "cell_type": "code",
   "execution_count": 26,
   "id": "538c2f86",
   "metadata": {},
   "outputs": [],
   "source": [
    "# Saving the Stacking Classifier Model as a pickle in a file\n",
    "path = 'E:\\Shobhit\\MSDS\\Capstone\\Y1_Capstone\\MLModels\\Age Prediction'\n",
    "filename = f'{path}\\\\Stacking_Classifier_Age_Scenario2.pkl'\n",
    "pickle.dump(sclf_fit, open(filename, 'wb'))"
   ]
  },
  {
   "cell_type": "code",
   "execution_count": null,
   "id": "7124bbfd",
   "metadata": {},
   "outputs": [],
   "source": [
    "# Reading saved Stacking Classifier model\n",
    "# path = 'E:\\\\Shobhit\\\\MSDS\\\\Capstone\\\\Y1_Capstone\\\\MLModels'\n",
    "# filename = f'{path}\\\\Stacking_Classifier_Age_Scenario2.pkl'\n",
    "# sclf_fit = pickle.load(open(filename, 'rb'))\n",
    "# print(sclf_fit)"
   ]
  },
  {
   "cell_type": "markdown",
   "id": "9fa9e0d1",
   "metadata": {},
   "source": [
    "#### Evaluating the Stacking Classifier on Training Data Set"
   ]
  },
  {
   "cell_type": "code",
   "execution_count": 27,
   "id": "4c2f089c",
   "metadata": {},
   "outputs": [
    {
     "name": "stdout",
     "output_type": "stream",
     "text": [
      "Evaluating Training performance\n",
      "Accuracy:0.3812142111120169\n",
      "Precision:0.41776116032875615\n",
      "Recall:0.42363618620083926\n",
      "F1Score:0.38953668354115467\n"
     ]
    },
    {
     "data": {
      "image/png": "[encoded data removed]",
      "text/plain": [
       "<Figure size 640x480 with 2 Axes>"
      ]
     },
     "metadata": {},
     "output_type": "display_data"
    }
   ],
   "source": [
    "model_evaluation_dict_age['Model_Name'].append('Stacking_Classifier')\n",
    "evaluate_model(sclf_fit,X_train_s2, Y_train_s2_age)"
   ]
  },
  {
   "cell_type": "markdown",
   "id": "6257cbb6",
   "metadata": {},
   "source": [
    "#### Evaluating the Stacking Classifier Model on Test Data Set"
   ]
  },
  {
   "cell_type": "code",
   "execution_count": 28,
   "id": "cbd3291c",
   "metadata": {},
   "outputs": [
    {
     "name": "stdout",
     "output_type": "stream",
     "text": [
      "Evaluating Testing performance\n",
      "Accuracy:0.37599260946106083\n",
      "Precision:0.40813180768831386\n",
      "Recall:0.4188859623451371\n",
      "F1Score:0.38254191547787514\n"
     ]
    },
    {
     "data": {
      "image/png": "[encoded data removed]",
      "text/plain": [
       "<Figure size 640x480 with 2 Axes>"
      ]
     },
     "metadata": {},
     "output_type": "display_data"
    }
   ],
   "source": [
    "evaluate_model(sclf_fit, X_test_s2, Y_test_s2_age, False)"
   ]
  },
  {
   "cell_type": "markdown",
   "id": "fdfd82fb",
   "metadata": {},
   "source": [
    "### Evaluation Metrics"
   ]
  },
  {
   "cell_type": "code",
   "execution_count": 37,
   "id": "9e94d312",
   "metadata": {},
   "outputs": [
    {
     "data": {
      "text/plain": [
       "{'Model_Name': ['Logistic_Regression',\n",
       "  'XGBoost_Basic',\n",
       "  'Stacking_Classifier',\n",
       "  'XGBoost_HPT'],\n",
       " 'Training_Accuracy': [0.4445194766800588,\n",
       "  0.3764726195356558,\n",
       "  0.3812142111120169,\n",
       "  0.34017880999072486],\n",
       " 'Testing_Accuracy': [0.4101744160218425,\n",
       "  0.3516997140246601,\n",
       "  0.37599260946106083,\n",
       "  0.34017880999072486],\n",
       " 'Precision_Training': [0.4475920675796427,\n",
       "  0.48184853688668106,\n",
       "  0.41776116032875615,\n",
       "  0.3914113331678382],\n",
       " 'Precision_Testing': [0.4070661873738583,\n",
       "  0.40608877006287336,\n",
       "  0.40813180768831386,\n",
       "  0.3914113331678382],\n",
       " 'Recall_Training': [0.4256367717380697,\n",
       "  0.4427393383429296,\n",
       "  0.42363618620083926,\n",
       "  0.4118622573407472],\n",
       " 'Recall_Testing': [0.3924495171202809,\n",
       "  0.41625207296849087,\n",
       "  0.4188859623451371,\n",
       "  0.4118622573407472],\n",
       " 'F1Score_Training': [0.41699957804105453,\n",
       "  0.349627483412001,\n",
       "  0.38953668354115467,\n",
       "  0.2739710946719543],\n",
       " 'F1Score_Testing': [0.3835362643606653,\n",
       "  0.31543322877659735,\n",
       "  0.38254191547787514,\n",
       "  0.2739710946719543],\n",
       " 'Multiclass_log_loss_Training': [11.192154486122858,\n",
       "  0.6092401515936485,\n",
       "  2.338369876448648,\n",
       "  0.2628060246613056],\n",
       " 'Multiclass_log_loss_Testing': [11.657805709334793,\n",
       "  0.8423270021195668,\n",
       "  2.48654931025696,\n",
       "  0.2628060246613056]}"
      ]
     },
     "execution_count": 37,
     "metadata": {},
     "output_type": "execute_result"
    }
   ],
   "source": [
    "model_evaluation_dict_age"
   ]
  },
  {
   "cell_type": "code",
   "execution_count": 38,
   "id": "b95fbf42",
   "metadata": {},
   "outputs": [
    {
     "data": {
      "text/html": [
       "<div>\n",
       "<style scoped>\n",
       "    .dataframe tbody tr th:only-of-type {\n",
       "        vertical-align: middle;\n",
       "    }\n",
       "\n",
       "    .dataframe tbody tr th {\n",
       "        vertical-align: top;\n",
       "    }\n",
       "\n",
       "    .dataframe thead th {\n",
       "        text-align: right;\n",
       "    }\n",
       "</style>\n",
       "<table border=\"1\" class=\"dataframe\">\n",
       "  <thead>\n",
       "    <tr style=\"text-align: right;\">\n",
       "      <th></th>\n",
       "      <th>Model_Name</th>\n",
       "      <th>Training_Accuracy</th>\n",
       "      <th>Testing_Accuracy</th>\n",
       "      <th>Precision_Training</th>\n",
       "      <th>Precision_Testing</th>\n",
       "      <th>Recall_Training</th>\n",
       "      <th>Recall_Testing</th>\n",
       "      <th>F1Score_Training</th>\n",
       "      <th>F1Score_Testing</th>\n",
       "      <th>Multiclass_log_loss_Training</th>\n",
       "      <th>Multiclass_log_loss_Testing</th>\n",
       "    </tr>\n",
       "  </thead>\n",
       "  <tbody>\n",
       "    <tr>\n",
       "      <th>0</th>\n",
       "      <td>Logistic_Regression</td>\n",
       "      <td>0.444519</td>\n",
       "      <td>0.410174</td>\n",
       "      <td>0.447592</td>\n",
       "      <td>0.407066</td>\n",
       "      <td>0.425637</td>\n",
       "      <td>0.392450</td>\n",
       "      <td>0.417000</td>\n",
       "      <td>0.383536</td>\n",
       "      <td>11.192154</td>\n",
       "      <td>11.657806</td>\n",
       "    </tr>\n",
       "    <tr>\n",
       "      <th>1</th>\n",
       "      <td>XGBoost_Basic</td>\n",
       "      <td>0.376473</td>\n",
       "      <td>0.351700</td>\n",
       "      <td>0.481849</td>\n",
       "      <td>0.406089</td>\n",
       "      <td>0.442739</td>\n",
       "      <td>0.416252</td>\n",
       "      <td>0.349627</td>\n",
       "      <td>0.315433</td>\n",
       "      <td>0.609240</td>\n",
       "      <td>0.842327</td>\n",
       "    </tr>\n",
       "    <tr>\n",
       "      <th>2</th>\n",
       "      <td>Stacking_Classifier</td>\n",
       "      <td>0.381214</td>\n",
       "      <td>0.375993</td>\n",
       "      <td>0.417761</td>\n",
       "      <td>0.408132</td>\n",
       "      <td>0.423636</td>\n",
       "      <td>0.418886</td>\n",
       "      <td>0.389537</td>\n",
       "      <td>0.382542</td>\n",
       "      <td>2.338370</td>\n",
       "      <td>2.486549</td>\n",
       "    </tr>\n",
       "    <tr>\n",
       "      <th>3</th>\n",
       "      <td>XGBoost_HPT</td>\n",
       "      <td>0.340179</td>\n",
       "      <td>0.340179</td>\n",
       "      <td>0.391411</td>\n",
       "      <td>0.391411</td>\n",
       "      <td>0.411862</td>\n",
       "      <td>0.411862</td>\n",
       "      <td>0.273971</td>\n",
       "      <td>0.273971</td>\n",
       "      <td>0.262806</td>\n",
       "      <td>0.262806</td>\n",
       "    </tr>\n",
       "  </tbody>\n",
       "</table>\n",
       "</div>"
      ],
      "text/plain": [
       "            Model_Name  Training_Accuracy  Testing_Accuracy  \\\n",
       "0  Logistic_Regression           0.444519          0.410174   \n",
       "1        XGBoost_Basic           0.376473          0.351700   \n",
       "2  Stacking_Classifier           0.381214          0.375993   \n",
       "3          XGBoost_HPT           0.340179          0.340179   \n",
       "\n",
       "   Precision_Training  Precision_Testing  Recall_Training  Recall_Testing  \\\n",
       "0            0.447592           0.407066         0.425637        0.392450   \n",
       "1            0.481849           0.406089         0.442739        0.416252   \n",
       "2            0.417761           0.408132         0.423636        0.418886   \n",
       "3            0.391411           0.391411         0.411862        0.411862   \n",
       "\n",
       "   F1Score_Training  F1Score_Testing  Multiclass_log_loss_Training  \\\n",
       "0          0.417000         0.383536                     11.192154   \n",
       "1          0.349627         0.315433                      0.609240   \n",
       "2          0.389537         0.382542                      2.338370   \n",
       "3          0.273971         0.273971                      0.262806   \n",
       "\n",
       "   Multiclass_log_loss_Testing  \n",
       "0                    11.657806  \n",
       "1                     0.842327  \n",
       "2                     2.486549  \n",
       "3                     0.262806  "
      ]
     },
     "execution_count": 38,
     "metadata": {},
     "output_type": "execute_result"
    }
   ],
   "source": [
    "df_evaluation_age_s2 = pd.DataFrame(model_evaluation_dict_age)\n",
    "df_evaluation_age_s2"
   ]
  },
  {
   "cell_type": "code",
   "execution_count": 39,
   "id": "1fdf0507",
   "metadata": {},
   "outputs": [],
   "source": [
    "path = 'E:\\Shobhit\\MSDS\\Capstone\\Y1_Capstone\\MLModels\\Age Prediction'\n",
    "df_evaluation_age_s2.to_csv(f'{path}\\\\evaluation_metrics_age_s2.csv',index=False)"
   ]
  }
 ],
 "metadata": {
  "kernelspec": {
   "display_name": "Python 3 (ipykernel)",
   "language": "python",
   "name": "python3"
  },
  "language_info": {
   "codemirror_mode": {
    "name": "ipython",
    "version": 3
   },
   "file_extension": ".py",
   "mimetype": "text/x-python",
   "name": "python",
   "nbconvert_exporter": "python",
   "pygments_lexer": "ipython3",
   "version": "3.9.7"
  }
 },
 "nbformat": 4,
 "nbformat_minor": 5
}
